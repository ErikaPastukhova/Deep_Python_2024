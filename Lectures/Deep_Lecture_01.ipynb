{
  "cells": [
    {
      "cell_type": "markdown",
      "source": [
        "# Продвинутый Python, Лекция 1\n",
        "\n",
        "**Лектор:** Петров Тимур\n",
        "\n",
        "**Семинаристы:** Бузаев Федор, Дешеулин Олег, Коган Александра, Васина Олеся, Садуллаев Музаффар\n",
        "\n",
        "**Spoiler Alert:** в рамках курса нельзя изучить ни одну из тем от и до досконально (к сожалению, на это требуется больше времени, чем даже 3 часа в неделю). Но мы попробуем рассказать столько, сколько возможно :)"
      ],
      "metadata": {
        "id": "XldPr0vLH3wQ"
      }
    },
    {
      "cell_type": "markdown",
      "source": [
        "## Пара организационных моментов"
      ],
      "metadata": {
        "id": "Ei1I3OXSIbh5"
      }
    },
    {
      "cell_type": "markdown",
      "source": [
        "Меня зовут Тимур, но можете звать меня пить)\n",
        "\n",
        "Моя телега: @Palladain\n",
        "\n",
        "Ссылка на гитхаб: https://github.com/Palladain/Deep_Python_2024"
      ],
      "metadata": {
        "id": "K4o41p0VIcT-"
      }
    },
    {
      "cell_type": "markdown",
      "source": [
        "### Оценивание"
      ],
      "metadata": {
        "id": "H5LxyutTIhyO"
      }
    },
    {
      "cell_type": "markdown",
      "source": [
        "$$O_{итог} = 0.4 * O_{экз} + 0.6 * O_{накоп} $$\n",
        "$$O_{накоп} = 0.2 * O_{доклад} + 0.8 * O_{дз} $$\n",
        "\n",
        "Округление только итога, округление арифметическое, блокирующих нет, автоматов нет\n",
        "\n",
        "А теперь про каждую часть:\n",
        "\n",
        "Экзамен - проект (команды от 2 до 4 человек, будет 2 КТ, темы будут в начале октября)\n",
        "\n",
        "Доклад - рассказ про библиотеку (варианты - свои через мое одобрение или же из вариантов, будут в начале октября)\n",
        "\n",
        "ДЗ - начиная со следующей недели будут небольшие домашки, дедлайн - 1 неделя, есть \"персональные дни прогула\" (14 дней)\n"
      ],
      "metadata": {
        "id": "pmKrhXMJIiaS"
      }
    },
    {
      "cell_type": "markdown",
      "source": [
        "### В программе:"
      ],
      "metadata": {
        "id": "cMPAvdK8KJhE"
      }
    },
    {
      "cell_type": "markdown",
      "source": [
        "\n",
        "* os, pathlib, argparse, shutil, platform, sysconfig (разбираемся с внутрянкой)\n",
        "* Advanced OOP + Typing + Pydantic\n",
        "* Тестирование + логирование, docker\n",
        "* threads, multiprocessing\n",
        "* Asyncio, aiohttp\n",
        "* БД-1\n",
        "* БД-2\n",
        "* Flask, что-то про System Design\n",
        "* FastAPI, Dependency Injector, Tenacity\n",
        "* Telega\n",
        "* Parsers\n",
        "* Intro to DA (АБ-тестирование)\n",
        "* Как Python работает внутри себя\n",
        "* System Design"
      ],
      "metadata": {
        "id": "vu66FOf1KLvj"
      }
    },
    {
      "cell_type": "markdown",
      "source": [
        "## А теперь к нашим баранам!"
      ],
      "metadata": {
        "id": "O5OzlI_NLQpD"
      }
    },
    {
      "cell_type": "markdown",
      "metadata": {
        "id": "I15Fj6ICHWgb"
      },
      "source": [
        "<div align=\"center\">\n",
        "    <img src=\"https://cdn-icons-png.flaticon.com/512/5301/5301145.png\" height=\"128px\" width=\"128px\">\n",
        "    <br>\n",
        "    <i>Взаимодействие с ОС. Консольные утилиты.</i>\n",
        "</div>"
      ]
    },
    {
      "cell_type": "markdown",
      "source": [
        "Сегодня поговорим про консольные утилиты, как с ними жить и как взаимодейтвовать с вашей ОС для автоматизации различных задач."
      ],
      "metadata": {
        "id": "NIcFbfQ3L75T"
      }
    },
    {
      "cell_type": "code",
      "source": [
        "import platform\n",
        "import sysconfig\n",
        "import pathlib\n",
        "import shutil\n",
        "import argparse\n",
        "import sys"
      ],
      "metadata": {
        "id": "cUmPoDbFL9lt"
      },
      "execution_count": 13,
      "outputs": []
    },
    {
      "cell_type": "markdown",
      "source": [
        "Начнем с модуля [platform](https://docs.python.org/3/library/platform.html), предназначенная для доступа к идентифицирующим данным Вашей платформы. Зачем это необходимо? Строя различные интеграции/приложения etc, скорее всего, вам будет требоваться разные реализации, собственно говоря, platform помогает вам определиться, а где вы вообще, на какой машинке"
      ],
      "metadata": {
        "id": "VqX3y-6zLWSZ"
      }
    },
    {
      "cell_type": "markdown",
      "metadata": {
        "id": "dHjam1NFHWgc"
      },
      "source": [
        "**Пример.** Узнать, на какой операционной системе запускается программа."
      ]
    },
    {
      "cell_type": "code",
      "execution_count": 2,
      "metadata": {
        "colab": {
          "base_uri": "https://localhost:8080/",
          "height": 36
        },
        "id": "dY-dz9BrHWgd",
        "outputId": "01f6457b-de4b-4ccb-ab9b-683a23a84f8a"
      },
      "outputs": [
        {
          "output_type": "execute_result",
          "data": {
            "text/plain": [
              "'Linux'"
            ],
            "application/vnd.google.colaboratory.intrinsic+json": {
              "type": "string"
            }
          },
          "metadata": {},
          "execution_count": 2
        }
      ],
      "source": [
        "platform.system()"
      ]
    },
    {
      "cell_type": "markdown",
      "metadata": {
        "id": "B9q56dJBHWgd"
      },
      "source": [
        "**Пример.** Узнать, на каком процессоре работает компьютер."
      ]
    },
    {
      "cell_type": "code",
      "execution_count": 3,
      "metadata": {
        "colab": {
          "base_uri": "https://localhost:8080/",
          "height": 36
        },
        "id": "cw9K9DuEHWgd",
        "outputId": "ab40969d-b1bd-4dcc-e33a-5572126e7888"
      },
      "outputs": [
        {
          "output_type": "execute_result",
          "data": {
            "text/plain": [
              "'x86_64'"
            ],
            "application/vnd.google.colaboratory.intrinsic+json": {
              "type": "string"
            }
          },
          "metadata": {},
          "execution_count": 3
        }
      ],
      "source": [
        "platform.processor()"
      ]
    },
    {
      "cell_type": "markdown",
      "metadata": {
        "id": "xVhX9MCcHWge"
      },
      "source": [
        "**Пример.** Узнать сетевое имя компьютера."
      ]
    },
    {
      "cell_type": "code",
      "execution_count": 4,
      "metadata": {
        "colab": {
          "base_uri": "https://localhost:8080/",
          "height": 36
        },
        "id": "soq50wx0HWge",
        "outputId": "310da22f-05d0-428c-84fd-03b01a958888"
      },
      "outputs": [
        {
          "output_type": "execute_result",
          "data": {
            "text/plain": [
              "'70ab96a30000'"
            ],
            "application/vnd.google.colaboratory.intrinsic+json": {
              "type": "string"
            }
          },
          "metadata": {},
          "execution_count": 4
        }
      ],
      "source": [
        "platform.node()"
      ]
    },
    {
      "cell_type": "markdown",
      "metadata": {
        "id": "YOqItXROHWge"
      },
      "source": [
        "**Пример.** Узнать архитектуру компьютера."
      ]
    },
    {
      "cell_type": "code",
      "execution_count": 5,
      "metadata": {
        "colab": {
          "base_uri": "https://localhost:8080/"
        },
        "id": "RIF2rQpuHWge",
        "outputId": "35dff199-695d-4b51-b21e-28d8b196afa4"
      },
      "outputs": [
        {
          "output_type": "execute_result",
          "data": {
            "text/plain": [
              "('64bit', 'ELF')"
            ]
          },
          "metadata": {},
          "execution_count": 5
        }
      ],
      "source": [
        "platform.architecture()"
      ]
    },
    {
      "cell_type": "markdown",
      "metadata": {
        "id": "JSs-dnlEHWge"
      },
      "source": [
        "В зависимости от платформы модуль `platform` может предложить дополнительные функции. В частности, специальный инструментарий определен для `Jython`, `Windows`, `macOS`, `Unix` и `Linux`."
      ]
    },
    {
      "cell_type": "markdown",
      "metadata": {
        "id": "jnng7pKsHWge"
      },
      "source": [
        "**Пример.** Получить информацию о `Windows` на данном компьютере."
      ]
    },
    {
      "cell_type": "code",
      "execution_count": null,
      "metadata": {
        "id": "g2X7jzHDHWge",
        "outputId": "f9e3c8ca-0d13-4e8f-c358-1981cc49f56d"
      },
      "outputs": [
        {
          "name": "stdout",
          "output_type": "stream",
          "text": [
            "Версия:  ('10', '10.0.19045', 'SP0', 'Multiprocessor Free')\n",
            "Издание: Professional\n"
          ]
        }
      ],
      "source": [
        "print(f\"Версия:  {platform.win32_ver()}\")\n",
        "print(f\"Издание: {platform.win32_edition()}\")"
      ]
    },
    {
      "cell_type": "markdown",
      "metadata": {
        "id": "EwFs2Mk_HWge"
      },
      "source": [
        "**Пример.** Получить информацию о `macOS` на данном компьютере."
      ]
    },
    {
      "cell_type": "markdown",
      "metadata": {
        "id": "u24h47FVHWge"
      },
      "source": [
        "**Примечание.**  При невозможности получения каких-либо данных вернутся пустые строки. Запустим код с `Windows`."
      ]
    },
    {
      "cell_type": "code",
      "execution_count": null,
      "metadata": {
        "id": "764QCLj8HWge",
        "outputId": "ee1c494f-97e7-4474-80cb-600938dec911"
      },
      "outputs": [
        {
          "data": {
            "text/plain": [
              "('', ('', '', ''), '')"
            ]
          },
          "execution_count": 7,
          "metadata": {},
          "output_type": "execute_result"
        }
      ],
      "source": [
        "platform.mac_ver()"
      ]
    },
    {
      "cell_type": "markdown",
      "metadata": {
        "id": "ZOQ4pHY_HWgf"
      },
      "source": [
        "Модуль `platform` позволяет также узнать информацию о текущей конфигурации `Python` на устройстве."
      ]
    },
    {
      "cell_type": "code",
      "execution_count": null,
      "metadata": {
        "id": "zHCPpguPHWgf",
        "outputId": "307adc21-80cb-4dbe-d2d3-249a891dae8b"
      },
      "outputs": [
        {
          "name": "stdout",
          "output_type": "stream",
          "text": [
            "Компилятор: MSC v.1937 64 bit (AMD64)\n",
            "Реализация: CPython\n",
            "Версия:     3.12.1\n"
          ]
        }
      ],
      "source": [
        "print(f\"Компилятор: {platform.python_compiler()}\")\n",
        "print(f\"Реализация: {platform.python_implementation()}\")\n",
        "print(f\"Версия:     {platform.python_version()}\")"
      ]
    },
    {
      "cell_type": "markdown",
      "metadata": {
        "id": "R-m-FcFyHWgg"
      },
      "source": [
        "Однако внутри `platform` мы не найдем более глубокой информации о том, как собран `Python` на текущем устройстве. Такая информация может оказаться полезна, например, если вы конфигурируете `Python` для интеграции с `C` или `C++`. На помощь приходит `sysconfig`.\n",
        "\n",
        "Ссылка на документацию: [Тык](https://docs.python.org/3/library/sysconfig.html)"
      ]
    },
    {
      "cell_type": "markdown",
      "metadata": {
        "id": "bUYnEICdHWgg"
      },
      "source": [
        "То, как установлен `Python`, зависит всего от двух свойств устройства: платформа и опции установки (те самые галочки, которые вы нажимаете, когда что-то скачиваете). Конфигурация, от которой зависит расположение файлов при текущей установке, называют *схемой* или *схемой установки*."
      ]
    },
    {
      "cell_type": "markdown",
      "metadata": {
        "id": "_8E-4evrHWgg"
      },
      "source": [
        "Официально выделяют *9* схем установки. С ними более подробно вы познакомитесь на семинаре (или, в конце концов, в самой документации к `sysconfig`)."
      ]
    },
    {
      "cell_type": "markdown",
      "metadata": {
        "id": "exJ3doPhHWgg"
      },
      "source": [
        "**Пример.** Узнать существующие схемы установки для текущей версии `Python`."
      ]
    },
    {
      "cell_type": "code",
      "execution_count": 8,
      "metadata": {
        "colab": {
          "base_uri": "https://localhost:8080/"
        },
        "id": "QMW8vGRSHWgg",
        "outputId": "7196e1cc-9240-4344-81dd-a41c82b34240"
      },
      "outputs": [
        {
          "output_type": "execute_result",
          "data": {
            "text/plain": [
              "('deb_system',\n",
              " 'nt',\n",
              " 'nt_user',\n",
              " 'osx_framework_user',\n",
              " 'posix_home',\n",
              " 'posix_local',\n",
              " 'posix_prefix',\n",
              " 'posix_user')"
            ]
          },
          "metadata": {},
          "execution_count": 8
        }
      ],
      "source": [
        "sysconfig.get_scheme_names()"
      ]
    },
    {
      "cell_type": "markdown",
      "metadata": {
        "id": "g6AZCstRHWgg"
      },
      "source": [
        "**Примечание.** С некоторыми оговорками можно утверждать, что всего есть 4 схемы установки, а не 9. В частности, обобщаем по платформе или виртуальной среде."
      ]
    },
    {
      "cell_type": "markdown",
      "metadata": {
        "id": "6Fjbn-FqHWgg"
      },
      "source": [
        "**Пример.** Узнать схему установки для текущего устройства."
      ]
    },
    {
      "cell_type": "code",
      "execution_count": 7,
      "metadata": {
        "colab": {
          "base_uri": "https://localhost:8080/",
          "height": 36
        },
        "id": "J8VzPhgEHWgh",
        "outputId": "7da31883-c5fb-4038-9de2-b6ebec4ccf19"
      },
      "outputs": [
        {
          "output_type": "execute_result",
          "data": {
            "text/plain": [
              "'posix_local'"
            ],
            "application/vnd.google.colaboratory.intrinsic+json": {
              "type": "string"
            }
          },
          "metadata": {},
          "execution_count": 7
        }
      ],
      "source": [
        "sysconfig.get_default_scheme()"
      ]
    },
    {
      "cell_type": "markdown",
      "metadata": {
        "id": "ti6wn4lbHWgh"
      },
      "source": [
        "Кроме того, существуют *конфигурационные переменные*. Они специфичны под платформы, но не схемы. В них преимущественно находится информация о Вашей файловой системе (но, на самом деле, не только о ней)."
      ]
    },
    {
      "cell_type": "markdown",
      "metadata": {
        "id": "X44XsQF4HWgh"
      },
      "source": [
        "**Пример.** Получить конфигурационные переменные."
      ]
    },
    {
      "cell_type": "code",
      "execution_count": 9,
      "metadata": {
        "colab": {
          "base_uri": "https://localhost:8080/"
        },
        "id": "Rs7iAaYfHWgh",
        "outputId": "798760cc-cd85-4e4d-9350-37b4a3a4d841"
      },
      "outputs": [
        {
          "output_type": "execute_result",
          "data": {
            "text/plain": [
              "{'prefix': '/usr',\n",
              " 'exec_prefix': '/usr',\n",
              " 'py_version': '3.10.12',\n",
              " 'py_version_short': '3.10',\n",
              " 'py_version_nodot': '310',\n",
              " 'installed_base': '/usr',\n",
              " 'base': '/usr',\n",
              " 'installed_platbase': '/usr',\n",
              " 'platbase': '/usr',\n",
              " 'projectbase': '/usr/bin',\n",
              " 'platlibdir': 'lib',\n",
              " 'abiflags': '',\n",
              " 'py_version_nodot_plat': '',\n",
              " 'ABIFLAGS': '',\n",
              " 'AC_APPLE_UNIVERSAL_BUILD': 0,\n",
              " 'AIX_BUILDDATE': 0,\n",
              " 'AIX_GENUINE_CPLUSPLUS': 0,\n",
              " 'ALIGNOF_LONG': 8,\n",
              " 'ALIGNOF_SIZE_T': 8,\n",
              " 'ALT_SOABI': 0,\n",
              " 'ANDROID_API_LEVEL': 0,\n",
              " 'AR': 'x86_64-linux-gnu-gcc-ar',\n",
              " 'ARFLAGS': 'rcs',\n",
              " 'BASECFLAGS': '-Wno-unused-result -Wsign-compare',\n",
              " 'BASECPPFLAGS': '-IObjects -IInclude -IPython',\n",
              " 'BASEMODLIBS': '',\n",
              " 'BINDIR': '/usr/bin',\n",
              " 'BINLIBDEST': '/usr/lib/x86_64-linux-gnu/python3.10',\n",
              " 'BLDLIBRARY': '-lpython3.10',\n",
              " 'BLDSHARED': 'x86_64-linux-gnu-gcc -shared -Wl,-O1 -Wl,-Bsymbolic-functions -Wl,-Bsymbolic-functions      -g -fwrapv -O2   ',\n",
              " 'BUILDEXE': '',\n",
              " 'BUILDPYTHON': 'python',\n",
              " 'BUILD_GNU_TYPE': 'x86_64-pc-linux-gnu',\n",
              " 'BYTESTR_DEPS': '\\\\',\n",
              " 'CC': 'x86_64-linux-gnu-gcc',\n",
              " 'CCSHARED': '-fPIC',\n",
              " 'CFLAGS': '-Wno-unused-result -Wsign-compare -DNDEBUG -g -fwrapv -O2 -Wall -g       -fstack-protector-strong -Wformat -Werror=format-security  -g -fwrapv -O2   ',\n",
              " 'CFLAGSFORSHARED': '-fPIC',\n",
              " 'CFLAGS_ALIASING': '',\n",
              " 'CFLAGS_NODIST': '',\n",
              " 'CONFIGFILES': 'configure configure.ac acconfig.h pyconfig.h.in Makefile.pre.in',\n",
              " 'CONFIGURE_CFLAGS': '-g       -fstack-protector-strong -Wformat -Werror=format-security',\n",
              " 'CONFIGURE_CFLAGS_NODIST': '-std=c99 -Wextra -Wno-unused-result -Wno-unused-parameter -Wno-missing-field-initializers -Wstrict-prototypes -Werror=implicit-function-declaration -fvisibility=hidden',\n",
              " 'CONFIGURE_CPPFLAGS': '-Wdate-time -D_FORTIFY_SOURCE=2',\n",
              " 'CONFIGURE_LDFLAGS': '-Wl,-Bsymbolic-functions      -g -fwrapv -O2   ',\n",
              " 'CONFIGURE_LDFLAGS_NODIST': '',\n",
              " 'CONFIG_ARGS': \"'--enable-shared' '--prefix=/usr' '--libdir=/usr/lib/x86_64-linux-gnu' '--enable-ipv6' '--enable-loadable-sqlite-extensions' '--with-dbmliborder=bdb:gdbm' '--with-computed-gotos' '--without-ensurepip' '--with-system-expat' '--with-dtrace' '--with-system-libmpdec' '--with-wheel-pkg-dir=/usr/share/python-wheels/' 'MKDIR_P=/bin/mkdir -p' '--with-system-ffi' 'CC=x86_64-linux-gnu-gcc' 'CFLAGS=-g       -fstack-protector-strong -Wformat -Werror=format-security ' 'LDFLAGS=-Wl,-Bsymbolic-functions      -g -fwrapv -O2   ' 'CPPFLAGS=-Wdate-time -D_FORTIFY_SOURCE=2'\",\n",
              " 'CONFINCLUDEDIR': '/usr/include',\n",
              " 'CONFINCLUDEPY': '/usr/include/python3.10',\n",
              " 'COREPYTHONPATH': '',\n",
              " 'COVERAGE_INFO': '/build/python3.10-AW9wLY/python3.10-3.10.12/build-shared/coverage.info',\n",
              " 'COVERAGE_REPORT': '/build/python3.10-AW9wLY/python3.10-3.10.12/build-shared/lcov-report',\n",
              " 'COVERAGE_REPORT_OPTIONS': '--no-branch-coverage --title \"CPython lcov report\"',\n",
              " 'CPPFLAGS': '-IObjects -IInclude -IPython -I. -I../Include -Wdate-time -D_FORTIFY_SOURCE=2',\n",
              " 'CXX': 'x86_64-linux-gnu-g++',\n",
              " 'DESTDIRS': '/usr /usr/lib/x86_64-linux-gnu /usr/lib/x86_64-linux-gnu/python3.10 /usr/lib/python3.10/lib-dynload',\n",
              " 'DESTLIB': '/usr/lib/python3.10',\n",
              " 'DESTPATH': '',\n",
              " 'DESTSHARED': '/usr/lib/python3.10/lib-dynload',\n",
              " 'DFLAGS': '',\n",
              " 'DIRMODE': 755,\n",
              " 'DIST': 'README.rst ChangeLog configure configure.ac acconfig.h pyconfig.h.in Makefile.pre.in Include Lib Misc Ext-dummy',\n",
              " 'DISTDIRS': 'Include Lib Misc Ext-dummy',\n",
              " 'DISTFILES': 'README.rst ChangeLog configure configure.ac acconfig.h pyconfig.h.in Makefile.pre.in',\n",
              " 'DLINCLDIR': '.',\n",
              " 'DLLLIBRARY': '',\n",
              " 'DOUBLE_IS_ARM_MIXED_ENDIAN_IEEE754': 0,\n",
              " 'DOUBLE_IS_BIG_ENDIAN_IEEE754': 0,\n",
              " 'DOUBLE_IS_LITTLE_ENDIAN_IEEE754': 1,\n",
              " 'DTRACE': '/usr/bin/dtrace',\n",
              " 'DTRACE_DEPS': '\\\\',\n",
              " 'DTRACE_HEADERS': 'Include/pydtrace_probes.h',\n",
              " 'DTRACE_OBJS': 'Python/pydtrace.o',\n",
              " 'DYNLOADFILE': 'dynload_shlib.o',\n",
              " 'ENABLE_IPV6': 1,\n",
              " 'ENSUREPIP': 'no',\n",
              " 'EXE': '',\n",
              " 'EXEMODE': 755,\n",
              " 'EXPERIMENTAL_ISOLATED_SUBINTERPRETERS': 0,\n",
              " 'EXPORTSFROM': '',\n",
              " 'EXPORTSYMS': '',\n",
              " 'EXTRATESTOPTS': '',\n",
              " 'EXT_SUFFIX': '.cpython-310-x86_64-linux-gnu.so',\n",
              " 'FILEMODE': 644,\n",
              " 'FLOAT_WORDS_BIGENDIAN': 0,\n",
              " 'FLOCK_NEEDS_LIBBSD': 0,\n",
              " 'GETPGRP_HAVE_ARG': 0,\n",
              " 'GITBRANCH': '',\n",
              " 'GITTAG': '',\n",
              " 'GITVERSION': '',\n",
              " 'GNULD': 'yes',\n",
              " 'HAVE_ACCEPT4': 1,\n",
              " 'HAVE_ACOSH': 1,\n",
              " 'HAVE_ADDRINFO': 1,\n",
              " 'HAVE_ALARM': 1,\n",
              " 'HAVE_ALIGNED_REQUIRED': 0,\n",
              " 'HAVE_ALLOCA_H': 1,\n",
              " 'HAVE_ALTZONE': 0,\n",
              " 'HAVE_ASINH': 1,\n",
              " 'HAVE_ASM_TYPES_H': 1,\n",
              " 'HAVE_ATANH': 1,\n",
              " 'HAVE_BIND_TEXTDOMAIN_CODESET': 1,\n",
              " 'HAVE_BLUETOOTH_BLUETOOTH_H': 1,\n",
              " 'HAVE_BLUETOOTH_H': 0,\n",
              " 'HAVE_BROKEN_MBSTOWCS': 0,\n",
              " 'HAVE_BROKEN_NICE': 0,\n",
              " 'HAVE_BROKEN_PIPE_BUF': 0,\n",
              " 'HAVE_BROKEN_POLL': 0,\n",
              " 'HAVE_BROKEN_POSIX_SEMAPHORES': 0,\n",
              " 'HAVE_BROKEN_PTHREAD_SIGMASK': 0,\n",
              " 'HAVE_BROKEN_SEM_GETVALUE': 0,\n",
              " 'HAVE_BROKEN_UNSETENV': 0,\n",
              " 'HAVE_BUILTIN_ATOMIC': 1,\n",
              " 'HAVE_CHFLAGS': 0,\n",
              " 'HAVE_CHOWN': 1,\n",
              " 'HAVE_CHROOT': 1,\n",
              " 'HAVE_CLOCK': 1,\n",
              " 'HAVE_CLOCK_GETRES': 1,\n",
              " 'HAVE_CLOCK_GETTIME': 1,\n",
              " 'HAVE_CLOCK_SETTIME': 1,\n",
              " 'HAVE_CLOSE_RANGE': 1,\n",
              " 'HAVE_COMPUTED_GOTOS': 1,\n",
              " 'HAVE_CONFSTR': 1,\n",
              " 'HAVE_CONIO_H': 0,\n",
              " 'HAVE_COPYSIGN': 1,\n",
              " 'HAVE_COPY_FILE_RANGE': 1,\n",
              " 'HAVE_CRYPT_H': 1,\n",
              " 'HAVE_CRYPT_R': 1,\n",
              " 'HAVE_CTERMID': 1,\n",
              " 'HAVE_CTERMID_R': 0,\n",
              " 'HAVE_CURSES_FILTER': 1,\n",
              " 'HAVE_CURSES_H': 1,\n",
              " 'HAVE_CURSES_HAS_KEY': 1,\n",
              " 'HAVE_CURSES_IMMEDOK': 1,\n",
              " 'HAVE_CURSES_IS_PAD': 1,\n",
              " 'HAVE_CURSES_IS_TERM_RESIZED': 1,\n",
              " 'HAVE_CURSES_RESIZETERM': 1,\n",
              " 'HAVE_CURSES_RESIZE_TERM': 1,\n",
              " 'HAVE_CURSES_SYNCOK': 1,\n",
              " 'HAVE_CURSES_TYPEAHEAD': 1,\n",
              " 'HAVE_CURSES_USE_ENV': 1,\n",
              " 'HAVE_CURSES_WCHGAT': 1,\n",
              " 'HAVE_DECL_ISFINITE': 1,\n",
              " 'HAVE_DECL_ISINF': 1,\n",
              " 'HAVE_DECL_ISNAN': 1,\n",
              " 'HAVE_DECL_RTLD_DEEPBIND': 1,\n",
              " 'HAVE_DECL_RTLD_GLOBAL': 1,\n",
              " 'HAVE_DECL_RTLD_LAZY': 1,\n",
              " 'HAVE_DECL_RTLD_LOCAL': 1,\n",
              " 'HAVE_DECL_RTLD_MEMBER': 0,\n",
              " 'HAVE_DECL_RTLD_NODELETE': 1,\n",
              " 'HAVE_DECL_RTLD_NOLOAD': 1,\n",
              " 'HAVE_DECL_RTLD_NOW': 1,\n",
              " 'HAVE_DECL_TZNAME': 0,\n",
              " 'HAVE_DEVICE_MACROS': 1,\n",
              " 'HAVE_DEV_PTC': 0,\n",
              " 'HAVE_DEV_PTMX': 1,\n",
              " 'HAVE_DIRECT_H': 0,\n",
              " 'HAVE_DIRENT_D_TYPE': 1,\n",
              " 'HAVE_DIRENT_H': 1,\n",
              " 'HAVE_DIRFD': 1,\n",
              " 'HAVE_DLFCN_H': 1,\n",
              " 'HAVE_DLOPEN': 1,\n",
              " 'HAVE_DUP2': 1,\n",
              " 'HAVE_DUP3': 1,\n",
              " 'HAVE_DYLD_SHARED_CACHE_CONTAINS_PATH': 0,\n",
              " 'HAVE_DYNAMIC_LOADING': 1,\n",
              " 'HAVE_ENDIAN_H': 1,\n",
              " 'HAVE_EPOLL': 1,\n",
              " 'HAVE_EPOLL_CREATE1': 1,\n",
              " 'HAVE_ERF': 1,\n",
              " 'HAVE_ERFC': 1,\n",
              " 'HAVE_ERRNO_H': 1,\n",
              " 'HAVE_EVENTFD': 1,\n",
              " 'HAVE_EXECV': 1,\n",
              " 'HAVE_EXPLICIT_BZERO': 1,\n",
              " 'HAVE_EXPLICIT_MEMSET': 0,\n",
              " 'HAVE_EXPM1': 1,\n",
              " 'HAVE_FACCESSAT': 1,\n",
              " 'HAVE_FCHDIR': 1,\n",
              " 'HAVE_FCHMOD': 1,\n",
              " 'HAVE_FCHMODAT': 1,\n",
              " 'HAVE_FCHOWN': 1,\n",
              " 'HAVE_FCHOWNAT': 1,\n",
              " 'HAVE_FCNTL_H': 1,\n",
              " 'HAVE_FDATASYNC': 1,\n",
              " 'HAVE_FDOPENDIR': 1,\n",
              " 'HAVE_FDWALK': 0,\n",
              " 'HAVE_FEXECVE': 1,\n",
              " 'HAVE_FINITE': 1,\n",
              " 'HAVE_FLOCK': 1,\n",
              " 'HAVE_FORK': 1,\n",
              " 'HAVE_FORKPTY': 1,\n",
              " 'HAVE_FPATHCONF': 1,\n",
              " 'HAVE_FSEEK64': 0,\n",
              " 'HAVE_FSEEKO': 1,\n",
              " 'HAVE_FSTATAT': 1,\n",
              " 'HAVE_FSTATVFS': 1,\n",
              " 'HAVE_FSYNC': 1,\n",
              " 'HAVE_FTELL64': 0,\n",
              " 'HAVE_FTELLO': 1,\n",
              " 'HAVE_FTIME': 1,\n",
              " 'HAVE_FTRUNCATE': 1,\n",
              " 'HAVE_FUTIMENS': 1,\n",
              " 'HAVE_FUTIMES': 1,\n",
              " 'HAVE_FUTIMESAT': 1,\n",
              " 'HAVE_GAI_STRERROR': 1,\n",
              " 'HAVE_GAMMA': 1,\n",
              " 'HAVE_GCC_ASM_FOR_MC68881': 0,\n",
              " 'HAVE_GCC_ASM_FOR_X64': 1,\n",
              " 'HAVE_GCC_ASM_FOR_X87': 1,\n",
              " 'HAVE_GCC_UINT128_T': 1,\n",
              " 'HAVE_GETADDRINFO': 1,\n",
              " 'HAVE_GETC_UNLOCKED': 1,\n",
              " 'HAVE_GETENTROPY': 1,\n",
              " 'HAVE_GETGRGID_R': 1,\n",
              " 'HAVE_GETGRNAM_R': 1,\n",
              " 'HAVE_GETGROUPLIST': 1,\n",
              " 'HAVE_GETGROUPS': 1,\n",
              " 'HAVE_GETHOSTBYNAME': 0,\n",
              " 'HAVE_GETHOSTBYNAME_R': 1,\n",
              " 'HAVE_GETHOSTBYNAME_R_3_ARG': 0,\n",
              " 'HAVE_GETHOSTBYNAME_R_5_ARG': 0,\n",
              " 'HAVE_GETHOSTBYNAME_R_6_ARG': 1,\n",
              " 'HAVE_GETITIMER': 1,\n",
              " 'HAVE_GETLOADAVG': 1,\n",
              " 'HAVE_GETLOGIN': 1,\n",
              " 'HAVE_GETNAMEINFO': 1,\n",
              " 'HAVE_GETPAGESIZE': 1,\n",
              " 'HAVE_GETPEERNAME': 1,\n",
              " 'HAVE_GETPGID': 1,\n",
              " 'HAVE_GETPGRP': 1,\n",
              " 'HAVE_GETPID': 1,\n",
              " 'HAVE_GETPRIORITY': 1,\n",
              " 'HAVE_GETPWENT': 1,\n",
              " 'HAVE_GETPWNAM_R': 1,\n",
              " 'HAVE_GETPWUID_R': 1,\n",
              " 'HAVE_GETRANDOM': 1,\n",
              " 'HAVE_GETRANDOM_SYSCALL': 1,\n",
              " 'HAVE_GETRESGID': 1,\n",
              " 'HAVE_GETRESUID': 1,\n",
              " 'HAVE_GETSID': 1,\n",
              " 'HAVE_GETSPENT': 1,\n",
              " 'HAVE_GETSPNAM': 1,\n",
              " 'HAVE_GETWD': 1,\n",
              " 'HAVE_GLIBC_MEMMOVE_BUG': 0,\n",
              " 'HAVE_GRP_H': 1,\n",
              " 'HAVE_HSTRERROR': 1,\n",
              " 'HAVE_HTOLE64': 1,\n",
              " 'HAVE_HYPOT': 1,\n",
              " 'HAVE_IEEEFP_H': 0,\n",
              " 'HAVE_IF_NAMEINDEX': 1,\n",
              " 'HAVE_INET_ATON': 1,\n",
              " 'HAVE_INET_PTON': 1,\n",
              " 'HAVE_INITGROUPS': 1,\n",
              " 'HAVE_INTTYPES_H': 1,\n",
              " 'HAVE_IO_H': 0,\n",
              " 'HAVE_IPA_PURE_CONST_BUG': 0,\n",
              " 'HAVE_KILL': 1,\n",
              " 'HAVE_KILLPG': 1,\n",
              " 'HAVE_KQUEUE': 0,\n",
              " 'HAVE_LANGINFO_H': 1,\n",
              " 'HAVE_LARGEFILE_SUPPORT': 0,\n",
              " 'HAVE_LCHFLAGS': 0,\n",
              " 'HAVE_LCHMOD': 0,\n",
              " 'HAVE_LCHOWN': 1,\n",
              " 'HAVE_LGAMMA': 1,\n",
              " 'HAVE_LIBDL': 1,\n",
              " 'HAVE_LIBDLD': 0,\n",
              " 'HAVE_LIBIEEE': 0,\n",
              " 'HAVE_LIBINTL_H': 1,\n",
              " 'HAVE_LIBREADLINE': 1,\n",
              " 'HAVE_LIBRESOLV': 0,\n",
              " 'HAVE_LIBSENDFILE': 0,\n",
              " 'HAVE_LIBUTIL_H': 0,\n",
              " 'HAVE_LIBUUID': 1,\n",
              " 'HAVE_LINK': 1,\n",
              " 'HAVE_LINKAT': 1,\n",
              " 'HAVE_LINUX_AUXVEC_H': 1,\n",
              " 'HAVE_LINUX_CAN_BCM_H': 1,\n",
              " 'HAVE_LINUX_CAN_H': 1,\n",
              " 'HAVE_LINUX_CAN_J1939_H': 1,\n",
              " 'HAVE_LINUX_CAN_RAW_FD_FRAMES': 1,\n",
              " 'HAVE_LINUX_CAN_RAW_H': 1,\n",
              " 'HAVE_LINUX_CAN_RAW_JOIN_FILTERS': 1,\n",
              " 'HAVE_LINUX_MEMFD_H': 1,\n",
              " 'HAVE_LINUX_NETLINK_H': 1,\n",
              " 'HAVE_LINUX_QRTR_H': 1,\n",
              " 'HAVE_LINUX_RANDOM_H': 1,\n",
              " 'HAVE_LINUX_TIPC_H': 1,\n",
              " 'HAVE_LINUX_VM_SOCKETS_H': 1,\n",
              " 'HAVE_LINUX_WAIT_H': 1,\n",
              " 'HAVE_LOCKF': 1,\n",
              " 'HAVE_LOG1P': 1,\n",
              " 'HAVE_LOG2': 1,\n",
              " 'HAVE_LONG_DOUBLE': 1,\n",
              " 'HAVE_LSTAT': 1,\n",
              " 'HAVE_LUTIMES': 1,\n",
              " 'HAVE_MADVISE': 1,\n",
              " 'HAVE_MAKEDEV': 1,\n",
              " 'HAVE_MBRTOWC': 1,\n",
              " 'HAVE_MEMFD_CREATE': 1,\n",
              " 'HAVE_MEMORY_H': 0,\n",
              " 'HAVE_MEMRCHR': 1,\n",
              " 'HAVE_MKDIRAT': 1,\n",
              " 'HAVE_MKFIFO': 1,\n",
              " 'HAVE_MKFIFOAT': 1,\n",
              " 'HAVE_MKNOD': 1,\n",
              " 'HAVE_MKNODAT': 1,\n",
              " 'HAVE_MKTIME': 1,\n",
              " 'HAVE_MMAP': 1,\n",
              " 'HAVE_MREMAP': 1,\n",
              " 'HAVE_NCURSES_H': 1,\n",
              " 'HAVE_NDIR_H': 0,\n",
              " 'HAVE_NETPACKET_PACKET_H': 1,\n",
              " 'HAVE_NET_IF_H': 1,\n",
              " 'HAVE_NICE': 1,\n",
              " 'HAVE_NON_UNICODE_WCHAR_T_REPRESENTATION': 0,\n",
              " 'HAVE_OPENAT': 1,\n",
              " 'HAVE_OPENPTY': 1,\n",
              " 'HAVE_PATHCONF': 1,\n",
              " 'HAVE_PAUSE': 1,\n",
              " 'HAVE_PIPE2': 1,\n",
              " 'HAVE_PLOCK': 0,\n",
              " 'HAVE_POLL': 1,\n",
              " 'HAVE_POLL_H': 1,\n",
              " 'HAVE_POSIX_FADVISE': 1,\n",
              " 'HAVE_POSIX_FALLOCATE': 1,\n",
              " 'HAVE_POSIX_SPAWN': 1,\n",
              " 'HAVE_POSIX_SPAWNP': 1,\n",
              " 'HAVE_PREAD': 1,\n",
              " 'HAVE_PREADV': 1,\n",
              " 'HAVE_PREADV2': 1,\n",
              " 'HAVE_PRLIMIT': 1,\n",
              " 'HAVE_PROCESS_H': 0,\n",
              " 'HAVE_PROTOTYPES': 1,\n",
              " 'HAVE_PTHREAD_CONDATTR_SETCLOCK': 1,\n",
              " 'HAVE_PTHREAD_DESTRUCTOR': 0,\n",
              " 'HAVE_PTHREAD_GETCPUCLOCKID': 1,\n",
              " 'HAVE_PTHREAD_H': 1,\n",
              " 'HAVE_PTHREAD_INIT': 0,\n",
              " 'HAVE_PTHREAD_KILL': 1,\n",
              " 'HAVE_PTHREAD_SIGMASK': 1,\n",
              " 'HAVE_PTY_H': 1,\n",
              " 'HAVE_PWRITE': 1,\n",
              " 'HAVE_PWRITEV': 1,\n",
              " 'HAVE_PWRITEV2': 1,\n",
              " 'HAVE_READLINK': 1,\n",
              " 'HAVE_READLINKAT': 1,\n",
              " 'HAVE_READV': 1,\n",
              " 'HAVE_REALPATH': 1,\n",
              " 'HAVE_RENAMEAT': 1,\n",
              " 'HAVE_RL_APPEND_HISTORY': 1,\n",
              " 'HAVE_RL_CATCH_SIGNAL': 1,\n",
              " 'HAVE_RL_COMPLETION_APPEND_CHARACTER': 1,\n",
              " 'HAVE_RL_COMPLETION_DISPLAY_MATCHES_HOOK': 1,\n",
              " 'HAVE_RL_COMPLETION_MATCHES': 1,\n",
              " 'HAVE_RL_COMPLETION_SUPPRESS_APPEND': 1,\n",
              " 'HAVE_RL_PRE_INPUT_HOOK': 1,\n",
              " 'HAVE_RL_RESIZE_TERMINAL': 1,\n",
              " 'HAVE_ROUND': 1,\n",
              " 'HAVE_RTPSPAWN': 0,\n",
              " 'HAVE_SCHED_GET_PRIORITY_MAX': 1,\n",
              " 'HAVE_SCHED_H': 1,\n",
              " 'HAVE_SCHED_RR_GET_INTERVAL': 1,\n",
              " 'HAVE_SCHED_SETAFFINITY': 1,\n",
              " 'HAVE_SCHED_SETPARAM': 1,\n",
              " 'HAVE_SCHED_SETSCHEDULER': 1,\n",
              " 'HAVE_SEM_CLOCKWAIT': 1,\n",
              " 'HAVE_SEM_GETVALUE': 1,\n",
              " 'HAVE_SEM_OPEN': 1,\n",
              " 'HAVE_SEM_TIMEDWAIT': 1,\n",
              " 'HAVE_SEM_UNLINK': 1,\n",
              " 'HAVE_SENDFILE': 1,\n",
              " 'HAVE_SETEGID': 1,\n",
              " 'HAVE_SETEUID': 1,\n",
              " 'HAVE_SETGID': 1,\n",
              " 'HAVE_SETGROUPS': 1,\n",
              " 'HAVE_SETHOSTNAME': 1,\n",
              " 'HAVE_SETITIMER': 1,\n",
              " 'HAVE_SETLOCALE': 1,\n",
              " 'HAVE_SETPGID': 1,\n",
              " 'HAVE_SETPGRP': 1,\n",
              " 'HAVE_SETPRIORITY': 1,\n",
              " 'HAVE_SETREGID': 1,\n",
              " 'HAVE_SETRESGID': 1,\n",
              " 'HAVE_SETRESUID': 1,\n",
              " 'HAVE_SETREUID': 1,\n",
              " 'HAVE_SETSID': 1,\n",
              " 'HAVE_SETUID': 1,\n",
              " 'HAVE_SETVBUF': 1,\n",
              " 'HAVE_SHADOW_H': 1,\n",
              " 'HAVE_SHM_OPEN': 1,\n",
              " 'HAVE_SHM_UNLINK': 1,\n",
              " 'HAVE_SIGACTION': 1,\n",
              " 'HAVE_SIGALTSTACK': 1,\n",
              " 'HAVE_SIGFILLSET': 1,\n",
              " 'HAVE_SIGINFO_T_SI_BAND': 1,\n",
              " 'HAVE_SIGINTERRUPT': 1,\n",
              " 'HAVE_SIGNAL_H': 1,\n",
              " 'HAVE_SIGPENDING': 1,\n",
              " 'HAVE_SIGRELSE': 1,\n",
              " 'HAVE_SIGTIMEDWAIT': 1,\n",
              " 'HAVE_SIGWAIT': 1,\n",
              " 'HAVE_SIGWAITINFO': 1,\n",
              " 'HAVE_SNPRINTF': 1,\n",
              " 'HAVE_SOCKADDR_ALG': 1,\n",
              " 'HAVE_SOCKADDR_SA_LEN': 0,\n",
              " 'HAVE_SOCKADDR_STORAGE': 1,\n",
              " 'HAVE_SOCKETPAIR': 1,\n",
              " 'HAVE_SPAWN_H': 1,\n",
              " 'HAVE_SPLICE': 1,\n",
              " 'HAVE_SSIZE_T': 1,\n",
              " 'HAVE_STATVFS': 1,\n",
              " 'HAVE_STAT_TV_NSEC': 1,\n",
              " 'HAVE_STAT_TV_NSEC2': 0,\n",
              " 'HAVE_STDARG_PROTOTYPES': 1,\n",
              " 'HAVE_STDINT_H': 1,\n",
              " 'HAVE_STDLIB_H': 1,\n",
              " 'HAVE_STD_ATOMIC': 1,\n",
              " 'HAVE_STRFTIME': 1,\n",
              " 'HAVE_STRINGS_H': 1,\n",
              " 'HAVE_STRING_H': 1,\n",
              " 'HAVE_STRLCPY': 0,\n",
              " 'HAVE_STROPTS_H': 0,\n",
              " 'HAVE_STRSIGNAL': 1,\n",
              " 'HAVE_STRUCT_PASSWD_PW_GECOS': 1,\n",
              " 'HAVE_STRUCT_PASSWD_PW_PASSWD': 1,\n",
              " 'HAVE_STRUCT_STAT_ST_BIRTHTIME': 0,\n",
              " 'HAVE_STRUCT_STAT_ST_BLKSIZE': 1,\n",
              " 'HAVE_STRUCT_STAT_ST_BLOCKS': 1,\n",
              " 'HAVE_STRUCT_STAT_ST_FLAGS': 0,\n",
              " 'HAVE_STRUCT_STAT_ST_GEN': 0,\n",
              " 'HAVE_STRUCT_STAT_ST_RDEV': 1,\n",
              " 'HAVE_STRUCT_TM_TM_ZONE': 1,\n",
              " 'HAVE_SYMLINK': 1,\n",
              " 'HAVE_SYMLINKAT': 1,\n",
              " 'HAVE_SYNC': 1,\n",
              " 'HAVE_SYSCONF': 1,\n",
              " 'HAVE_SYSEXITS_H': 1,\n",
              " 'HAVE_SYS_AUDIOIO_H': 0,\n",
              " 'HAVE_SYS_AUXV_H': 1,\n",
              " 'HAVE_SYS_BSDTTY_H': 0,\n",
              " 'HAVE_SYS_DEVPOLL_H': 0,\n",
              " 'HAVE_SYS_DIR_H': 0,\n",
              " 'HAVE_SYS_ENDIAN_H': 0,\n",
              " 'HAVE_SYS_EPOLL_H': 1,\n",
              " 'HAVE_SYS_EVENTFD_H': 1,\n",
              " 'HAVE_SYS_EVENT_H': 0,\n",
              " 'HAVE_SYS_FILE_H': 1,\n",
              " 'HAVE_SYS_IOCTL_H': 1,\n",
              " 'HAVE_SYS_KERN_CONTROL_H': 0,\n",
              " 'HAVE_SYS_LOADAVG_H': 0,\n",
              " 'HAVE_SYS_LOCK_H': 0,\n",
              " 'HAVE_SYS_MEMFD_H': 0,\n",
              " 'HAVE_SYS_MKDEV_H': 0,\n",
              " 'HAVE_SYS_MMAN_H': 1,\n",
              " 'HAVE_SYS_MODEM_H': 0,\n",
              " 'HAVE_SYS_NDIR_H': 0,\n",
              " 'HAVE_SYS_PARAM_H': 1,\n",
              " 'HAVE_SYS_POLL_H': 1,\n",
              " 'HAVE_SYS_RANDOM_H': 1,\n",
              " 'HAVE_SYS_RESOURCE_H': 1,\n",
              " 'HAVE_SYS_SELECT_H': 1,\n",
              " 'HAVE_SYS_SENDFILE_H': 1,\n",
              " 'HAVE_SYS_SOCKET_H': 1,\n",
              " 'HAVE_SYS_STATVFS_H': 1,\n",
              " 'HAVE_SYS_STAT_H': 1,\n",
              " 'HAVE_SYS_SYSCALL_H': 1,\n",
              " 'HAVE_SYS_SYSMACROS_H': 1,\n",
              " 'HAVE_SYS_SYS_DOMAIN_H': 0,\n",
              " 'HAVE_SYS_TERMIO_H': 0,\n",
              " 'HAVE_SYS_TIMES_H': 1,\n",
              " 'HAVE_SYS_TIME_H': 1,\n",
              " 'HAVE_SYS_TYPES_H': 1,\n",
              " 'HAVE_SYS_UIO_H': 1,\n",
              " 'HAVE_SYS_UN_H': 1,\n",
              " 'HAVE_SYS_UTSNAME_H': 1,\n",
              " 'HAVE_SYS_WAIT_H': 1,\n",
              " 'HAVE_SYS_XATTR_H': 1,\n",
              " 'HAVE_TCGETPGRP': 1,\n",
              " 'HAVE_TCSETPGRP': 1,\n",
              " 'HAVE_TEMPNAM': 1,\n",
              " 'HAVE_TERMIOS_H': 1,\n",
              " 'HAVE_TERM_H': 1,\n",
              " 'HAVE_TGAMMA': 1,\n",
              " 'HAVE_TIMEGM': 1,\n",
              " 'HAVE_TIMES': 1,\n",
              " 'HAVE_TMPFILE': 1,\n",
              " 'HAVE_TMPNAM': 1,\n",
              " 'HAVE_TMPNAM_R': 1,\n",
              " 'HAVE_TM_ZONE': 1,\n",
              " 'HAVE_TRUNCATE': 1,\n",
              " 'HAVE_TZNAME': 0,\n",
              " 'HAVE_UCS4_TCL': 0,\n",
              " 'HAVE_UNAME': 1,\n",
              " 'HAVE_UNISTD_H': 1,\n",
              " 'HAVE_UNLINKAT': 1,\n",
              " 'HAVE_USABLE_WCHAR_T': 0,\n",
              " 'HAVE_UTIL_H': 0,\n",
              " 'HAVE_UTIMENSAT': 1,\n",
              " 'HAVE_UTIMES': 1,\n",
              " 'HAVE_UTIME_H': 1,\n",
              " 'HAVE_UUID_CREATE': 0,\n",
              " 'HAVE_UUID_ENC_BE': 0,\n",
              " 'HAVE_UUID_GENERATE_TIME_SAFE': 1,\n",
              " 'HAVE_UUID_H': 0,\n",
              " 'HAVE_UUID_UUID_H': 1,\n",
              " 'HAVE_VFORK': 1,\n",
              " 'HAVE_WAIT3': 1,\n",
              " 'HAVE_WAIT4': 1,\n",
              " 'HAVE_WAITID': 1,\n",
              " 'HAVE_WAITPID': 1,\n",
              " 'HAVE_WCHAR_H': 1,\n",
              " 'HAVE_WCSCOLL': 1,\n",
              " 'HAVE_WCSFTIME': 1,\n",
              " 'HAVE_WCSXFRM': 1,\n",
              " 'HAVE_WMEMCMP': 1,\n",
              " 'HAVE_WORKING_TZSET': 1,\n",
              " 'HAVE_WRITEV': 1,\n",
              " 'HAVE_ZLIB_COPY': 1,\n",
              " 'HAVE__GETPTY': 0,\n",
              " 'HOST_GNU_TYPE': 'x86_64-pc-linux-gnu',\n",
              " 'INCLDIRSTOMAKE': '/usr/include /usr/include /usr/include/python3.10 /usr/include/python3.10',\n",
              " 'INCLUDEDIR': '/usr/include',\n",
              " 'INCLUDEPY': '/usr/include/python3.10',\n",
              " 'INSTALL': '/usr/bin/install -c',\n",
              " 'INSTALL_DATA': '/usr/bin/install -c -m 644',\n",
              " 'INSTALL_PROGRAM': '/usr/bin/install -c',\n",
              " 'INSTALL_SCRIPT': '/usr/bin/install -c',\n",
              " 'INSTALL_SHARED': '/usr/bin/install -c -m 755',\n",
              " 'INSTSONAME': 'libpython3.10.so.1.0',\n",
              " 'IO_H': 'Modules/_io/_iomodule.h',\n",
              " 'IO_OBJS': '\\\\',\n",
              " 'LDCXXSHARED': 'x86_64-linux-gnu-g++ -shared -Wl,-O1 -Wl,-Bsymbolic-functions',\n",
              " 'LDFLAGS': '-Wl,-Bsymbolic-functions      -g -fwrapv -O2   ',\n",
              " 'LDFLAGS_NODIST': '',\n",
              " 'LDLIBRARY': 'libpython3.10.so',\n",
              " 'LDLIBRARYDIR': '',\n",
              " 'LDSHARED': 'x86_64-linux-gnu-gcc -shared -Wl,-O1 -Wl,-Bsymbolic-functions -Wl,-Bsymbolic-functions      -g -fwrapv -O2   ',\n",
              " 'LDVERSION': '3.10',\n",
              " 'LIBC': '',\n",
              " 'LIBDEST': '/usr/lib/python3.10',\n",
              " 'LIBDIR': '/usr/lib/x86_64-linux-gnu',\n",
              " 'LIBFFI_INCLUDEDIR': '',\n",
              " 'LIBM': '-lm',\n",
              " 'LIBOBJDIR': 'Python/',\n",
              " 'LIBOBJS': '',\n",
              " 'LIBPC': '/usr/lib/x86_64-linux-gnu/pkgconfig',\n",
              " 'LIBPL': '/usr/lib/python3.10/config-3.10-x86_64-linux-gnu',\n",
              " 'LIBPYTHON': '',\n",
              " 'LIBRARY': 'libpython3.10.a',\n",
              " 'LIBRARY_DEPS': 'libpython3.10.a libpython3.10.so libpython3.so',\n",
              " 'LIBRARY_OBJS': '\\\\',\n",
              " 'LIBRARY_OBJS_OMIT_FROZEN': '\\\\',\n",
              " 'LIBS': '-lcrypt -ldl  -lm',\n",
              " 'LIBSUBDIRS': 'asyncio \\\\',\n",
              " 'LINKCC': 'x86_64-linux-gnu-gcc',\n",
              " 'LINKFORSHARED': '-Xlinker -export-dynamic -Wl,-O1 -Wl,-Bsymbolic-functions',\n",
              " 'LIPO_32BIT_FLAGS': '',\n",
              " 'LIPO_INTEL64_FLAGS': '',\n",
              " 'LLVM_PROF_ERR': 'no',\n",
              " 'LLVM_PROF_FILE': '',\n",
              " 'LLVM_PROF_MERGER': 'true',\n",
              " 'LN': 'ln',\n",
              " 'LOCALMODLIBS': '-lexpat                       -L/usr/lib -lz                       -lexpat',\n",
              " 'MACHDEP': 'linux',\n",
              " 'MACHDEP_OBJS': '',\n",
              " 'MACHDESTLIB': '/usr/lib/x86_64-linux-gnu/python3.10',\n",
              " 'MACOSX_DEPLOYMENT_TARGET': '',\n",
              " 'MAINCC': 'x86_64-linux-gnu-gcc',\n",
              " 'MAJOR_IN_MKDEV': 0,\n",
              " 'MAJOR_IN_SYSMACROS': 1,\n",
              " 'MAKESETUP': '../Modules/makesetup',\n",
              " 'MANDIR': '/usr/share/man',\n",
              " 'MKDIR_P': '/bin/mkdir -p',\n",
              " 'MODBUILT_NAMES': 'array  cmath  math  _struct  _random  _elementtree  _pickle  _datetime  _bisect  _heapq  _statistics  unicodedata  fcntl  spwd  grp  select  _csv  _socket  _posixsubprocess  _md5  _sha1  _sha256  _sha512  _sha3  _blake2  syslog  binascii  zlib  posix  errno  pwd  _sre  _codecs  _weakref  _functools  _operator  _collections  _abc  itertools  atexit  _signal  _stat  time  _thread  _locale  _io  faulthandler  _tracemalloc  _symtable  pyexpat  xxsubtype',\n",
              " 'MODDISABLED_NAMES': '',\n",
              " 'MODLIBS': '-lexpat                       -L/usr/lib -lz                       -lexpat',\n",
              " 'MODOBJS': '$(sort   Modules/arraymodule.o  Modules/cmathmodule.o Modules/_math.o  Modules/mathmodule.o Modules/_math.o  Modules/_struct.o  Modules/_randommodule.o  Modules/_elementtree.o  Modules/_pickle.o  Modules/_datetimemodule.o  Modules/_bisectmodule.o  Modules/_heapqmodule.o  Modules/_statisticsmodule.o  Modules/unicodedata.o  Modules/fcntlmodule.o  Modules/spwdmodule.o  Modules/grpmodule.o  Modules/selectmodule.o  Modules/_csv.o  Modules/socketmodule.o  Modules/_posixsubprocess.o  Modules/md5module.o  Modules/sha1module.o  Modules/sha256module.o  Modules/sha512module.o  Modules/sha3module.o  Modules/blake2module.o Modules/blake2b_impl.o Modules/blake2s_impl.o  Modules/syslogmodule.o  Modules/binascii.o  Modules/zlibmodule.o  Modules/posixmodule.o  Modules/errnomodule.o  Modules/pwdmodule.o  Modules/_sre.o  Modules/_codecsmodule.o  Modules/_weakref.o  Modules/_functoolsmodule.o  Modules/_operator.o  Modules/_collectionsmodule.o  Modules/_abc.o  Modules/itertoolsmodule.o  Modules/atexitmodule.o  Modules/signalmodule.o  Modules/_stat.o  Modules/timemodule.o  Modules/_threadmodule.o  Modules/_localemodule.o  Modules/_iomodule.o Modules/iobase.o Modules/fileio.o Modules/bytesio.o Modules/bufferedio.o Modules/textio.o Modules/stringio.o  Modules/faulthandler.o  Modules/_tracemalloc.o  Modules/symtablemodule.o  Modules/pyexpat.o  Modules/xxsubtype.o)',\n",
              " 'MODULE_OBJS': '\\\\',\n",
              " 'MULTIARCH': 'x86_64-linux-gnu',\n",
              " 'MULTIARCH_CPPFLAGS': '-DMULTIARCH=\\\\\"x86_64-linux-gnu\\\\\"',\n",
              " 'MVWDELCH_IS_EXPRESSION': 1,\n",
              " 'NO_AS_NEEDED': '-Wl,--no-as-needed',\n",
              " 'OBJECT_OBJS': '\\\\',\n",
              " 'OPENSSL_INCLUDES': '',\n",
              " 'OPENSSL_LDFLAGS': '',\n",
              " 'OPENSSL_LIBS': '-lssl -lcrypto',\n",
              " 'OPENSSL_RPATH': '',\n",
              " 'OPT': '-DNDEBUG -g -fwrapv -O2 -Wall',\n",
              " 'OTHER_LIBTOOL_OPT': '',\n",
              " 'PACKAGE_BUGREPORT': 0,\n",
              " 'PACKAGE_NAME': 0,\n",
              " 'PACKAGE_STRING': 0,\n",
              " 'PACKAGE_TARNAME': 0,\n",
              " 'PACKAGE_URL': 0,\n",
              " 'PACKAGE_VERSION': 0,\n",
              " 'PARSER_HEADERS': '\\\\',\n",
              " 'PARSER_OBJS': '\\\\ \\\\ Parser/myreadline.o Parser/tokenizer.o',\n",
              " 'PEGEN_HEADERS': '\\\\',\n",
              " 'PEGEN_OBJS': '\\\\',\n",
              " 'PGO_PROF_GEN_FLAG': '-fprofile-generate',\n",
              " 'PGO_PROF_USE_FLAG': '',\n",
              " 'PLATLIBDIR': 'lib',\n",
              " 'POBJS': '\\\\',\n",
              " 'POSIX_SEMAPHORES_NOT_ENABLED': 0,\n",
              " 'PROFILE_TASK': '-m test --pgo --timeout=1200',\n",
              " 'PTHREAD_KEY_T_IS_COMPATIBLE_WITH_INT': 1,\n",
              " 'PTHREAD_SYSTEM_SCHED_SUPPORTED': 1,\n",
              " 'PURIFY': '',\n",
              " 'PY3LIBRARY': 'libpython3.so',\n",
              " 'PYLONG_BITS_IN_DIGIT': 0,\n",
              " 'PYTHON': 'python',\n",
              " 'PYTHONFRAMEWORK': '',\n",
              " 'PYTHONFRAMEWORKDIR': 'no-framework',\n",
              " 'PYTHONFRAMEWORKINSTALLDIR': '',\n",
              " 'PYTHONFRAMEWORKPREFIX': '',\n",
              " 'PYTHONPATH': '',\n",
              " 'PYTHON_FOR_BUILD': './python -E',\n",
              " 'PYTHON_FOR_REGEN': '',\n",
              " 'PYTHON_HEADERS': '\\\\',\n",
              " 'PYTHON_OBJS': '\\\\',\n",
              " 'PY_BUILTIN_HASHLIB_HASHES': '\"md5,sha1,sha256,sha512,sha3,blake2\"',\n",
              " 'PY_BUILTIN_MODULE_CFLAGS': '-Wno-unused-result -Wsign-compare -DNDEBUG -g -fwrapv -O2 -Wall -g       -fstack-protector-strong -Wformat -Werror=format-security  -g -fwrapv -O2    -std=c99 -Wextra -Wno-unused-result -Wno-unused-parameter -Wno-missing-field-initializers -Wstrict-prototypes -Werror=implicit-function-declaration -fvisibility=hidden  -I../Include/internal -IObjects -IInclude -IPython -I. -I../Include -Wdate-time -D_FORTIFY_SOURCE=2 -fPIC -DPy_BUILD_CORE_BUILTIN',\n",
              " 'PY_CFLAGS': '-Wno-unused-result -Wsign-compare -DNDEBUG -g -fwrapv -O2 -Wall -g       -fstack-protector-strong -Wformat -Werror=format-security  -g -fwrapv -O2   ',\n",
              " 'PY_CFLAGS_NODIST': '-std=c99 -Wextra -Wno-unused-result -Wno-unused-parameter -Wno-missing-field-initializers -Wstrict-prototypes -Werror=implicit-function-declaration -fvisibility=hidden  -I../Include/internal',\n",
              " 'PY_COERCE_C_LOCALE': 1,\n",
              " 'PY_CORE_CFLAGS': '-Wno-unused-result -Wsign-compare -DNDEBUG -g -fwrapv -O2 -Wall -g       -fstack-protector-strong -Wformat -Werror=format-security  -g -fwrapv -O2    -std=c99 -Wextra -Wno-unused-result -Wno-unused-parameter -Wno-missing-field-initializers -Wstrict-prototypes -Werror=implicit-function-declaration -fvisibility=hidden  -I../Include/internal -IObjects -IInclude -IPython -I. -I../Include -Wdate-time -D_FORTIFY_SOURCE=2 -fPIC -DPy_BUILD_CORE',\n",
              " 'PY_CORE_LDFLAGS': '-Wl,-Bsymbolic-functions      -g -fwrapv -O2   ',\n",
              " 'PY_CPPFLAGS': '-IObjects -IInclude -IPython -I. -I../Include -Wdate-time -D_FORTIFY_SOURCE=2',\n",
              " 'PY_ENABLE_SHARED': 1,\n",
              " 'PY_FORMAT_SIZE_T': '\"z\"',\n",
              " 'PY_LDFLAGS': '-Wl,-Bsymbolic-functions      -g -fwrapv -O2   ',\n",
              " 'PY_LDFLAGS_NODIST': '',\n",
              " 'PY_SSL_DEFAULT_CIPHERS': 1,\n",
              " 'PY_SSL_DEFAULT_CIPHER_STRING': 0,\n",
              " 'PY_STDMODULE_CFLAGS': '-Wno-unused-result -Wsign-compare -DNDEBUG -g -fwrapv -O2 -Wall -g       -fstack-protector-strong -Wformat -Werror=format-security  -g -fwrapv -O2    -std=c99 -Wextra -Wno-unused-result -Wno-unused-parameter -Wno-missing-field-initializers -Wstrict-prototypes -Werror=implicit-function-declaration -fvisibility=hidden  -I../Include/internal -IObjects -IInclude -IPython -I. -I../Include -Wdate-time -D_FORTIFY_SOURCE=2 -fPIC',\n",
              " 'Py_DEBUG': 0,\n",
              " 'Py_ENABLE_SHARED': 1,\n",
              " 'Py_HASH_ALGORITHM': 0,\n",
              " 'Py_TRACE_REFS': 0,\n",
              " 'QUICKTESTOPTS': '-x test_subprocess test_io test_lib2to3 \\\\',\n",
              " 'READELF': 'readelf',\n",
              " 'RESSRCDIR': 'Mac/Resources/framework',\n",
              " 'RETSIGTYPE': 'void',\n",
              " 'RUNSHARED': 'LD_LIBRARY_PATH=/build/python3.10-AW9wLY/python3.10-3.10.12/build-shared',\n",
              " 'SCRIPTDIR': '/usr/lib',\n",
              " 'SETPGRP_HAVE_ARG': 0,\n",
              " 'SHELL': '/bin/sh',\n",
              " 'SHLIBS': '-lcrypt -ldl  -lm',\n",
              " 'SHLIB_SUFFIX': '.so',\n",
              " 'SHM_NEEDS_LIBRT': 0,\n",
              " 'SIGNED_RIGHT_SHIFT_ZERO_FILLS': 0,\n",
              " 'SITEPATH': '',\n",
              " 'SIZEOF_DOUBLE': 8,\n",
              " 'SIZEOF_FLOAT': 4,\n",
              " 'SIZEOF_FPOS_T': 16,\n",
              " 'SIZEOF_INT': 4,\n",
              " 'SIZEOF_LONG': 8,\n",
              " 'SIZEOF_LONG_DOUBLE': 16,\n",
              " 'SIZEOF_LONG_LONG': 8,\n",
              " 'SIZEOF_OFF_T': 8,\n",
              " 'SIZEOF_PID_T': 4,\n",
              " 'SIZEOF_PTHREAD_KEY_T': 4,\n",
              " 'SIZEOF_PTHREAD_T': 8,\n",
              " 'SIZEOF_SHORT': 2,\n",
              " 'SIZEOF_SIZE_T': 8,\n",
              " 'SIZEOF_TIME_T': 8,\n",
              " 'SIZEOF_UINTPTR_T': 8,\n",
              " 'SIZEOF_VOID_P': 8,\n",
              " 'SIZEOF_WCHAR_T': 4,\n",
              " 'SIZEOF__BOOL': 1,\n",
              " 'SOABI': 'cpython-310-x86_64-linux-gnu',\n",
              " 'SRCDIRS': 'Parser Objects Python Modules Modules/_io Programs',\n",
              " 'SRC_GDB_HOOKS': '../Tools/gdb/libpython.py',\n",
              " 'STATIC_LIBPYTHON': 1,\n",
              " 'STDC_HEADERS': 1,\n",
              " 'STRICT_SYSV_CURSES': \"/* Don't use ncurses extensions */\",\n",
              " 'STRIPFLAG': '-s',\n",
              " 'SUBDIRS': '',\n",
              " 'SUBDIRSTOO': 'Include Lib Misc',\n",
              " 'SYSLIBS': '-lm',\n",
              " 'SYS_SELECT_WITH_SYS_TIME': 1,\n",
              " 'TCLTK_INCLUDES': '-I/usr/include/tcl8.6',\n",
              " 'TCLTK_LIBS': '-ltk8.6 -ltkstub8.6 -ltcl8.6 -ltclstub8.6',\n",
              " 'TESTOPTS': '',\n",
              " 'TESTPATH': '',\n",
              " 'TESTPYTHON': 'LD_LIBRARY_PATH=/build/python3.10-AW9wLY/python3.10-3.10.12/build-shared ./python',\n",
              " 'TESTPYTHONOPTS': '',\n",
              " 'TESTRUNNER': 'LD_LIBRARY_PATH=/build/python3.10-AW9wLY/python3.10-3.10.12/build-shared ./python ../Tools/scripts/run_tests.py',\n",
              " 'TESTSUBDIRS': 'ctypes/test \\\\',\n",
              " 'TESTTIMEOUT': 1200,\n",
              " 'TEST_MODULES': 'yes',\n",
              " 'THREAD_STACK_SIZE': 0,\n",
              " 'TIMEMODULE_LIB': 0,\n",
              " 'TIME_WITH_SYS_TIME': 1,\n",
              " 'TM_IN_SYS_TIME': 0,\n",
              " 'TZPATH': '/usr/share/zoneinfo:/usr/lib/zoneinfo:/usr/share/lib/zoneinfo:/etc/zoneinfo',\n",
              " 'UNICODE_DEPS': '\\\\',\n",
              " 'UNIVERSALSDK': '',\n",
              " 'UPDATE_FILE': '../Tools/scripts/update_file.py',\n",
              " 'USE_COMPUTED_GOTOS': 1,\n",
              " 'VERSION': '3.10',\n",
              " 'VPATH': '..',\n",
              " 'WHEEL_PKG_DIR': '/usr/share/python-wheels/',\n",
              " 'WINDOW_HAS_FLAGS': 1,\n",
              " 'WITH_DECIMAL_CONTEXTVAR': 1,\n",
              " 'WITH_DOC_STRINGS': 1,\n",
              " 'WITH_DTRACE': 1,\n",
              " 'WITH_DYLD': 0,\n",
              " 'WITH_EDITLINE': 0,\n",
              " 'WITH_LIBINTL': 0,\n",
              " 'WITH_NEXT_FRAMEWORK': 0,\n",
              " 'WITH_PYMALLOC': 1,\n",
              " 'WITH_VALGRIND': 0,\n",
              " 'X87_DOUBLE_ROUNDING': 0,\n",
              " 'XMLLIBSUBDIRS': 'xml xml/dom xml/etree xml/parsers xml/sax',\n",
              " 'abs_builddir': '/build/python3.10-AW9wLY/python3.10-3.10.12/build-shared',\n",
              " 'abs_srcdir': '/build/python3.10-AW9wLY/python3.10-3.10.12/build-shared/..',\n",
              " 'datarootdir': '/usr/share',\n",
              " 'srcdir': '/usr/lib/python3.10/config-3.10-x86_64-linux-gnu',\n",
              " 'SO': '.cpython-310-x86_64-linux-gnu.so',\n",
              " 'userbase': '/root/.local',\n",
              " 'multiarchsubdir': '/x86_64-linux-gnu'}"
            ]
          },
          "metadata": {},
          "execution_count": 9
        }
      ],
      "source": [
        "sysconfig.get_config_vars()"
      ]
    },
    {
      "cell_type": "markdown",
      "metadata": {
        "id": "_VWhPrzmHWgh"
      },
      "source": [
        "**Примечание.** Если нужно получить некоторое подмножество ключевых переменных, то можно явно указать их в аргументах функции."
      ]
    },
    {
      "cell_type": "code",
      "execution_count": 10,
      "metadata": {
        "colab": {
          "base_uri": "https://localhost:8080/"
        },
        "id": "ia5V1gp2HWgh",
        "outputId": "0eb3eb5b-5c42-4287-80a2-48d3283cdf70"
      },
      "outputs": [
        {
          "output_type": "execute_result",
          "data": {
            "text/plain": [
              "['/usr/bin', '/usr/lib/python3.10']"
            ]
          },
          "metadata": {},
          "execution_count": 10
        }
      ],
      "source": [
        "sysconfig.get_config_vars(\"BINDIR\", \"LIBDEST\")"
      ]
    },
    {
      "cell_type": "markdown",
      "metadata": {
        "id": "rOIzlKr0HWgh"
      },
      "source": [
        "**Примечание.** Если требуется всего одна переменная, то стоит сделать выбор в пользу упрощенного варианта функции выше."
      ]
    },
    {
      "cell_type": "code",
      "execution_count": null,
      "metadata": {
        "id": "LXH4frNlHWgh",
        "outputId": "cf9ec9ca-9e3d-495f-a721-eb0ea35eac76"
      },
      "outputs": [
        {
          "data": {
            "text/plain": [
              "'C:\\\\Program Files\\\\Python312'"
            ]
          },
          "execution_count": 12,
          "metadata": {},
          "output_type": "execute_result"
        }
      ],
      "source": [
        "sysconfig.get_config_var(\"BINDIR\")"
      ]
    },
    {
      "cell_type": "code",
      "execution_count": null,
      "metadata": {
        "id": "En1apemuHWgh",
        "outputId": "59cd6473-8e0f-460b-995c-678929b40fad"
      },
      "outputs": [
        {
          "data": {
            "text/plain": [
              "'c:\\\\Program Files\\\\Python312\\\\Lib'"
            ]
          },
          "execution_count": 13,
          "metadata": {},
          "output_type": "execute_result"
        }
      ],
      "source": [
        "sysconfig.get_config_var(\"LIBDEST\")"
      ]
    },
    {
      "cell_type": "markdown",
      "metadata": {
        "id": "oybdUkN0HWgh"
      },
      "source": [
        "**Пример.** Получить директорию, в которой хранятся динамические библиотеки `Python`."
      ]
    },
    {
      "cell_type": "code",
      "execution_count": 11,
      "metadata": {
        "colab": {
          "base_uri": "https://localhost:8080/",
          "height": 36
        },
        "id": "5m6yXTfTHWgh",
        "outputId": "c8314f20-df1b-4f07-feb5-38c75f9fe66c"
      },
      "outputs": [
        {
          "output_type": "execute_result",
          "data": {
            "text/plain": [
              "'/usr/lib/x86_64-linux-gnu'"
            ],
            "application/vnd.google.colaboratory.intrinsic+json": {
              "type": "string"
            }
          },
          "metadata": {},
          "execution_count": 11
        }
      ],
      "source": [
        "sysconfig.get_config_var(\"LIBDIR\")"
      ]
    },
    {
      "cell_type": "markdown",
      "metadata": {
        "id": "RW2areHQHWgh"
      },
      "source": [
        "**Пояснение.** Запустив этот код на `Windows`, Вы получите пустую строку, потому что эта переменная не определена для `nt`-платформ. Если же поиграться на `macOS` или `Linux`, то, напротив, получим путь до некоторой директории."
      ]
    },
    {
      "cell_type": "markdown",
      "metadata": {
        "id": "CGh1qlpTHWgh"
      },
      "source": [
        "Впрочем, про схемы и платформы можно рассказать еще много, но на этом пока остановимся, чтобы не погружаться в таинственный мир великого и могучего `C` (напоминалка: Python - это синтаксичекий сахар). На семинарах мы еще затронем схемы установки, чтобы Вам было более понятно, как выполнять одно из заданий домашней работы."
      ]
    },
    {
      "cell_type": "markdown",
      "metadata": {
        "id": "psFIHT4RHWgi"
      },
      "source": [
        "Говоря о файловой системе, нельзя не упомянуть модуль стандартной библиотеки `pathlib`. Он предназначен для высокоуровненвых *CPU*- и *IO-bound* операций над объектми файловой системы.\n",
        "\n",
        "Ссылка на документацию: [Текст ссылки](https://docs.python.org/3/library/pathlib.html)\n",
        "\n",
        "По существу представляет из себя библиотеку, где в качестве объекта - путь до того или иного файла (что важно - самостоятельно подстраивается под нужную ОС).Давайте чуть-чуть поговорим про объекты этого класса (PurePath - абстракция Path):\n",
        "\n",
        "![](https://docs.python.org/3/_images/pathlib-inheritance.png)"
      ]
    },
    {
      "cell_type": "markdown",
      "metadata": {
        "id": "gqPYKX7LHWgi"
      },
      "source": [
        "**Пример.** Создать объект-путь."
      ]
    },
    {
      "cell_type": "code",
      "execution_count": null,
      "metadata": {
        "id": "J1UWy_IwHWgi",
        "outputId": "9128e8df-4238-42bb-f4bd-23a34c53d451"
      },
      "outputs": [
        {
          "data": {
            "text/plain": [
              "WindowsPath('lecture.ipynb')"
            ]
          },
          "execution_count": 1,
          "metadata": {},
          "output_type": "execute_result"
        }
      ],
      "source": [
        "pathlib.Path(\"./lecture.ipynb\")"
      ]
    },
    {
      "cell_type": "markdown",
      "metadata": {
        "id": "fvMzf_qGHWgi"
      },
      "source": [
        "**Примечание.** `Path` устроен более хитро, чем привычные нам классы. В зависимости от платформы мы будем получать либо `WindowsPath`, либо `PosixPath`. Класс-фабрика `Path` выступает в качестве селектора."
      ]
    },
    {
      "cell_type": "markdown",
      "metadata": {
        "id": "q72jbyYCHWgi"
      },
      "source": [
        "**Замечание.** Используя `Windows`, невозможно инстанциировать экземпляры `PosixPath`, а `WindowsPath` - можно. И наоборот. На `Linux` и прочих не получится инстанциировать `WindowsPath`."
      ]
    },
    {
      "cell_type": "markdown",
      "metadata": {
        "id": "x0EG2ZS7HWgi"
      },
      "source": [
        "**Примечание.** В частности, пример выше - одна из причин, по которым `Python` нельзя полностью называть кросс-платформенным языком. Справедливости ради, отметим, что Вам **НИКОГДА** не следует использовать голые `WindowsPath` или `PosixPath` - только чистый `Path`. Это гарант кросс-платформенности."
      ]
    },
    {
      "cell_type": "code",
      "execution_count": null,
      "metadata": {
        "id": "219VmBt3HWgj",
        "outputId": "ee329397-bdf9-4a12-a5cb-547361f76e72"
      },
      "outputs": [
        {
          "data": {
            "text/plain": [
              "WindowsPath('lecture.ipynb')"
            ]
          },
          "execution_count": 2,
          "metadata": {},
          "output_type": "execute_result"
        }
      ],
      "source": [
        "pathlib.WindowsPath(\"./lecture.ipynb\")"
      ]
    },
    {
      "cell_type": "code",
      "execution_count": null,
      "metadata": {
        "id": "kuzzKcjMHWgj",
        "outputId": "0ba742db-cd86-43c4-a0f3-72144e83e4fc"
      },
      "outputs": [
        {
          "ename": "NotImplementedError",
          "evalue": "cannot instantiate 'PosixPath' on your system",
          "output_type": "error",
          "traceback": [
            "\u001b[1;31m---------------------------------------------------------------------------\u001b[0m",
            "\u001b[1;31mNotImplementedError\u001b[0m                       Traceback (most recent call last)",
            "Cell \u001b[1;32mIn[3], line 1\u001b[0m\n\u001b[1;32m----> 1\u001b[0m \u001b[43mpathlib\u001b[49m\u001b[38;5;241;43m.\u001b[39;49m\u001b[43mPosixPath\u001b[49m\u001b[43m(\u001b[49m\u001b[38;5;124;43m\"\u001b[39;49m\u001b[38;5;124;43m./lecture.ipynb\u001b[39;49m\u001b[38;5;124;43m\"\u001b[39;49m\u001b[43m)\u001b[49m\n",
            "File \u001b[1;32mc:\\Program Files\\Python311\\Lib\\pathlib.py:873\u001b[0m, in \u001b[0;36mPath.__new__\u001b[1;34m(cls, *args, **kwargs)\u001b[0m\n\u001b[0;32m    871\u001b[0m \u001b[38;5;28mself\u001b[39m \u001b[38;5;241m=\u001b[39m \u001b[38;5;28mcls\u001b[39m\u001b[38;5;241m.\u001b[39m_from_parts(args)\n\u001b[0;32m    872\u001b[0m \u001b[38;5;28;01mif\u001b[39;00m \u001b[38;5;129;01mnot\u001b[39;00m \u001b[38;5;28mself\u001b[39m\u001b[38;5;241m.\u001b[39m_flavour\u001b[38;5;241m.\u001b[39mis_supported:\n\u001b[1;32m--> 873\u001b[0m     \u001b[38;5;28;01mraise\u001b[39;00m \u001b[38;5;167;01mNotImplementedError\u001b[39;00m(\u001b[38;5;124m\"\u001b[39m\u001b[38;5;124mcannot instantiate \u001b[39m\u001b[38;5;132;01m%r\u001b[39;00m\u001b[38;5;124m on your system\u001b[39m\u001b[38;5;124m\"\u001b[39m\n\u001b[0;32m    874\u001b[0m                               \u001b[38;5;241m%\u001b[39m (\u001b[38;5;28mcls\u001b[39m\u001b[38;5;241m.\u001b[39m\u001b[38;5;18m__name__\u001b[39m,))\n\u001b[0;32m    875\u001b[0m \u001b[38;5;28;01mreturn\u001b[39;00m \u001b[38;5;28mself\u001b[39m\n",
            "\u001b[1;31mNotImplementedError\u001b[0m: cannot instantiate 'PosixPath' on your system"
          ]
        }
      ],
      "source": [
        "pathlib.PosixPath(\"./lecture.ipynb\")"
      ]
    },
    {
      "cell_type": "markdown",
      "metadata": {
        "id": "BbvnX9YZHWgj"
      },
      "source": [
        "**Пример.** Проверить, что объект существует. (Обратите внимание - pathlib не проверяет автоматически, есть ли реально такой путь, который вам нужен)"
      ]
    },
    {
      "cell_type": "code",
      "execution_count": null,
      "metadata": {
        "id": "m7QtFnhhHWgj",
        "outputId": "165132e1-7f22-48d2-ed55-0dbbccb99841"
      },
      "outputs": [
        {
          "data": {
            "text/plain": [
              "True"
            ]
          },
          "execution_count": 4,
          "metadata": {},
          "output_type": "execute_result"
        }
      ],
      "source": [
        "path = pathlib.Path(\"./lecture.ipynb\")\n",
        "path.exists()"
      ]
    },
    {
      "cell_type": "code",
      "execution_count": null,
      "metadata": {
        "id": "sC0D3jARHWgj",
        "outputId": "6286fb63-14e3-400f-d662-63eafa433a09"
      },
      "outputs": [
        {
          "data": {
            "text/plain": [
              "False"
            ]
          },
          "execution_count": 5,
          "metadata": {},
          "output_type": "execute_result"
        }
      ],
      "source": [
        "path = pathlib.Path(\"./hello.world\")\n",
        "path.exists()"
      ]
    },
    {
      "cell_type": "markdown",
      "metadata": {
        "id": "VOiRJJnyHWgj"
      },
      "source": [
        "**Пример.** Проверить, что путь является абсолютным. (Кто напомнит, что такое абсолютный и относительный путь?)"
      ]
    },
    {
      "cell_type": "code",
      "execution_count": null,
      "metadata": {
        "id": "g5Z31WcRHWgj",
        "outputId": "fbde070f-6bf7-47b7-c1dd-231986113290"
      },
      "outputs": [
        {
          "data": {
            "text/plain": [
              "False"
            ]
          },
          "execution_count": 8,
          "metadata": {},
          "output_type": "execute_result"
        }
      ],
      "source": [
        "path = pathlib.Path(\"./lecture.ipynb\")\n",
        "path.is_absolute()"
      ]
    },
    {
      "cell_type": "markdown",
      "metadata": {
        "id": "70vBUEuuHWgj"
      },
      "source": [
        "**Пример.** Получить абсолютный путь до файла."
      ]
    },
    {
      "cell_type": "code",
      "execution_count": null,
      "metadata": {
        "id": "fAnIk9ZpHWgj",
        "outputId": "39df7504-e6d0-4b1f-8f41-e0fb7450c1be"
      },
      "outputs": [
        {
          "data": {
            "text/plain": [
              "WindowsPath('c:/Users/FCOla/Desktop/lecture.ipynb')"
            ]
          },
          "execution_count": 9,
          "metadata": {},
          "output_type": "execute_result"
        }
      ],
      "source": [
        "path = pathlib.Path(\"./lecture.ipynb\")\n",
        "path.absolute()"
      ]
    },
    {
      "cell_type": "markdown",
      "metadata": {
        "id": "BEKRIwLXHWgj"
      },
      "source": [
        "**Примечание.** Если пути не существует, то он будет раскрыт настолько, насколько это возможно."
      ]
    },
    {
      "cell_type": "code",
      "execution_count": null,
      "metadata": {
        "id": "2R28ppANHWgj",
        "outputId": "0b9bb6fd-46cc-4182-8bc7-3afdf009014d"
      },
      "outputs": [
        {
          "data": {
            "text/plain": [
              "WindowsPath('c:/Users/FCOla/Desktop/hello.world')"
            ]
          },
          "execution_count": 10,
          "metadata": {},
          "output_type": "execute_result"
        }
      ],
      "source": [
        "path = pathlib.Path(\"./hello.world\")\n",
        "path.absolute()"
      ]
    },
    {
      "cell_type": "markdown",
      "metadata": {
        "id": "aJfFHzyxHWgj"
      },
      "source": [
        "**Пример.** Объединить несколько фрагментов в путь."
      ]
    },
    {
      "cell_type": "code",
      "execution_count": null,
      "metadata": {
        "id": "BwsvK5j7HWgj",
        "outputId": "79be5e67-c96a-4401-e982-ff31b9138908"
      },
      "outputs": [
        {
          "data": {
            "text/plain": [
              "WindowsPath('directory/dev/filename.txt')"
            ]
          },
          "execution_count": 42,
          "metadata": {},
          "output_type": "execute_result"
        }
      ],
      "source": [
        "directory = pathlib.Path(\"./directory\")\n",
        "\n",
        "directory.joinpath(\"dev\").joinpath(\"filename.txt\")"
      ]
    },
    {
      "cell_type": "markdown",
      "metadata": {
        "id": "enVsD9u1HWgj"
      },
      "source": [
        "Для простоты можно воспользоваться `*args`:"
      ]
    },
    {
      "cell_type": "code",
      "execution_count": 14,
      "metadata": {
        "colab": {
          "base_uri": "https://localhost:8080/"
        },
        "id": "J5tjlNHPHWgj",
        "outputId": "d209eaa4-618f-4e30-d31f-75d6663fa2ae"
      },
      "outputs": [
        {
          "output_type": "execute_result",
          "data": {
            "text/plain": [
              "PosixPath('directory/filename.txt/dev')"
            ]
          },
          "metadata": {},
          "execution_count": 14
        }
      ],
      "source": [
        "directory = pathlib.Path(\"./directory\")\n",
        "\n",
        "directory.joinpath(\"filename.txt\", \"dev\") ## Обратите внимание - порядок важен!"
      ]
    },
    {
      "cell_type": "markdown",
      "metadata": {
        "id": "wnadozUjHWgj"
      },
      "source": [
        "Или, например, через магические методы (перезаписанный через деление, все логично):"
      ]
    },
    {
      "cell_type": "code",
      "execution_count": null,
      "metadata": {
        "id": "0mZ4fIIjHWgj",
        "outputId": "3db82288-526b-4ecb-fee0-d86a7eb1e8ae"
      },
      "outputs": [
        {
          "data": {
            "text/plain": [
              "WindowsPath('directory/dev/filename.txt')"
            ]
          },
          "execution_count": 44,
          "metadata": {},
          "output_type": "execute_result"
        }
      ],
      "source": [
        "directory = pathlib.Path(\"./directory\")\n",
        "\n",
        "directory / \"dev\" / \"filename.txt\""
      ]
    },
    {
      "cell_type": "markdown",
      "metadata": {
        "id": "L1Rm-zdrHWgk"
      },
      "source": [
        "**Пример.** Проверить, к какому типу относится объект."
      ]
    },
    {
      "cell_type": "code",
      "execution_count": 15,
      "metadata": {
        "id": "MF1xRq1oHWgk"
      },
      "outputs": [],
      "source": [
        "path = pathlib.Path(\"./lecture.ipynb\")\n",
        "\n",
        "if path.is_symlink():\n",
        "    print(f\"Путь {path} соответствует символической ссылке\") ## Что такое символическая ссылка?\n",
        "\n",
        "if path.is_file():\n",
        "    print(f\"Путь {path} соответствует файлу\")\n",
        "\n",
        "if path.is_dir():\n",
        "    print(f\"Путь {path} соответствует директории\")"
      ]
    },
    {
      "cell_type": "markdown",
      "metadata": {
        "id": "KVemWgAaHWgk"
      },
      "source": [
        "**Примечание.** Если объекта файловой системы не существует (или если симлинк битый), то возвращается `False`."
      ]
    },
    {
      "cell_type": "markdown",
      "metadata": {
        "id": "EYasdfFuHWgk"
      },
      "source": [
        "**Предупреждение.** Сначала **ВСЕГДА** проверяют на символическую ссылку, так как методы `is_file` и `is_dir` вернут `True`, если Вы имеете дело с символической ссылкой, которая указывает на файл или директорию соответственно."
      ]
    },
    {
      "cell_type": "markdown",
      "metadata": {
        "id": "2XI_qZkcHWgk"
      },
      "source": [
        "**Пример.** Создать файл."
      ]
    },
    {
      "cell_type": "code",
      "execution_count": 16,
      "metadata": {
        "id": "GEdnZAsxHWgk"
      },
      "outputs": [],
      "source": [
        "path = pathlib.Path(\"./file.txt\")\n",
        "path.touch(exist_ok=True)"
      ]
    },
    {
      "cell_type": "markdown",
      "metadata": {
        "id": "vqX1fnD0HWgk"
      },
      "source": [
        "**Пояснение.** Флаг `exist_ok` не дает пробросить исключение наружу (файл мог уже существовать)."
      ]
    },
    {
      "cell_type": "markdown",
      "metadata": {
        "id": "fWqnU13dHWgk"
      },
      "source": [
        "**Пример.** Создать директорию."
      ]
    },
    {
      "cell_type": "code",
      "execution_count": null,
      "metadata": {
        "id": "39N65eq2HWgk"
      },
      "outputs": [],
      "source": [
        "path = pathlib.Path(\"./directory\")\n",
        "path.mkdir(exist_ok=True)"
      ]
    },
    {
      "cell_type": "markdown",
      "metadata": {
        "id": "lMr2nP5wHWgk"
      },
      "source": [
        "**Пример.** Создать вложенные директории."
      ]
    },
    {
      "cell_type": "code",
      "execution_count": null,
      "metadata": {
        "id": "nJ1V5hpOHWgk"
      },
      "outputs": [],
      "source": [
        "path = pathlib.Path(\"./recursive/directory\")\n",
        "path.mkdir(exist_ok=True, parents=True)"
      ]
    },
    {
      "cell_type": "markdown",
      "metadata": {
        "id": "VIrJsmTYHWgk"
      },
      "source": [
        "**Пример.** Создать символическую ссылку."
      ]
    },
    {
      "cell_type": "code",
      "execution_count": null,
      "metadata": {
        "id": "F5Nf2Pp3HWgk"
      },
      "outputs": [],
      "source": [
        "file = pathlib.Path(\"./file.txt\")\n",
        "file.touch(exist_ok=True)\n",
        "\n",
        "symlink = pathlib.Path(\"./symlink\")\n",
        "symlink.symlink_to(file)"
      ]
    },
    {
      "cell_type": "markdown",
      "metadata": {
        "id": "I1A4XVzoHWgk"
      },
      "source": [
        "**Примечание.** Для `Windows` важно указать параметр `target_is_directory`, так как на этой платформе символические ссылки устроены иначе. На остальных платформах можно не указывать - не будет даже учитываться."
      ]
    },
    {
      "cell_type": "code",
      "execution_count": null,
      "metadata": {
        "id": "XJL-8NmzHWgk"
      },
      "outputs": [],
      "source": [
        "directory = pathlib.Path(\"./directory\")\n",
        "directory.mkdir(exist_ok=True)\n",
        "\n",
        "symlink = pathlib.Path(\"./symlink\")\n",
        "symlink.symlink_to(directory, target_is_directory=True)"
      ]
    },
    {
      "cell_type": "markdown",
      "metadata": {
        "id": "5FpEk7w4HWgl"
      },
      "source": [
        "**Пример.** Считать, куда ведет символическая ссылка."
      ]
    },
    {
      "cell_type": "code",
      "execution_count": null,
      "metadata": {
        "id": "j_CNsdQCHWgl"
      },
      "outputs": [],
      "source": [
        "file = pathlib.Path(\"./file.txt\")\n",
        "file.touch(exist_ok=True)\n",
        "\n",
        "symlink = pathlib.Path(\"./symlink\")\n",
        "symlink.symlink_to(file)\n",
        "\n",
        "symlink.readlink()"
      ]
    },
    {
      "cell_type": "markdown",
      "metadata": {
        "id": "PRQog3FkHWgl"
      },
      "source": [
        "**Пример.** Переименовать файл."
      ]
    },
    {
      "cell_type": "code",
      "execution_count": null,
      "metadata": {
        "id": "w26wz_pgHWgl"
      },
      "outputs": [],
      "source": [
        "file = pathlib.Path(\"./file.txt\")\n",
        "file.touch(exist_ok=True)\n",
        "\n",
        "new_file = file.rename(\"another.txt\")\n",
        "\n",
        "assert not file.exists()\n",
        "assert new_file.exists()"
      ]
    },
    {
      "cell_type": "markdown",
      "metadata": {
        "id": "RKl2YknWHWgl"
      },
      "source": [
        "**Пример.** Удалить файл."
      ]
    },
    {
      "cell_type": "code",
      "execution_count": null,
      "metadata": {
        "id": "t8-1ZypQHWgl"
      },
      "outputs": [],
      "source": [
        "path = pathlib.Path(\"./file.txt\")\n",
        "path.touch(exist_ok=True)\n",
        "\n",
        "path.unlink()\n",
        "\n",
        "assert not path.exists()"
      ]
    },
    {
      "cell_type": "markdown",
      "metadata": {
        "id": "5suf8rEoHWgl"
      },
      "source": [
        "**Примечание.** Если файла не существует, то будет выброшено исключение. Но и этого можно избежать."
      ]
    },
    {
      "cell_type": "code",
      "execution_count": null,
      "metadata": {
        "id": "S8WsKlMvHWgl"
      },
      "outputs": [],
      "source": [
        "path = pathlib.Path(\"not-exists.txt\")\n",
        "\n",
        "assert not path.exists()\n",
        "\n",
        "path.unlink(missing_ok=True)\n",
        "\n",
        "assert not path.exists()"
      ]
    },
    {
      "cell_type": "markdown",
      "metadata": {
        "id": "fUBP5mKPHWgl"
      },
      "source": [
        "**Пример.** Удалить директорию."
      ]
    },
    {
      "cell_type": "code",
      "execution_count": null,
      "metadata": {
        "id": "f91LytkYHWgl"
      },
      "outputs": [],
      "source": [
        "path = pathlib.Path(\"./directory\")\n",
        "path.mkdir(exist_ok=True)\n",
        "\n",
        "path.rmdir()\n",
        "\n",
        "assert not path.exists()"
      ]
    },
    {
      "cell_type": "markdown",
      "metadata": {
        "id": "n1RKh2B7HWgl"
      },
      "source": [
        "**Замечание.** Директория должна быть пуста перед удалением."
      ]
    },
    {
      "cell_type": "markdown",
      "metadata": {
        "id": "k3FtW8DUHWgl"
      },
      "source": [
        "**Пример.** Записать текст в файл. Прочитать текст из файла."
      ]
    },
    {
      "cell_type": "code",
      "execution_count": null,
      "metadata": {
        "id": "A_a0tOYuHWgl",
        "outputId": "9f382fcb-0929-4713-b677-ab2eccc620a8"
      },
      "outputs": [
        {
          "data": {
            "text/plain": [
              "'Hello, World!'"
            ]
          },
          "execution_count": 56,
          "metadata": {},
          "output_type": "execute_result"
        }
      ],
      "source": [
        "path = pathlib.Path(\"./file.txt\")\n",
        "path.touch(exist_ok=True)\n",
        "\n",
        "path.write_text(\"Hello, World!\")\n",
        "path.read_text()"
      ]
    },
    {
      "cell_type": "code",
      "execution_count": null,
      "metadata": {
        "id": "sHpKDHjBHWgl",
        "outputId": "291da606-4dc2-4672-f565-eca2fbe5e46b"
      },
      "outputs": [
        {
          "data": {
            "text/plain": [
              "b'Hello, World!'"
            ]
          },
          "execution_count": 57,
          "metadata": {},
          "output_type": "execute_result"
        }
      ],
      "source": [
        "path = pathlib.Path(\"./file.txt\")\n",
        "path.touch(exist_ok=True)\n",
        "\n",
        "path.write_bytes(b\"Hello, World!\")\n",
        "path.read_bytes()"
      ]
    },
    {
      "cell_type": "markdown",
      "metadata": {
        "id": "viIbXawHHWgl"
      },
      "source": [
        "**Примечание.** Внутри функции файл закроется автоматически. Кстати говоря, если файла не существовало, то запись, как и положено, создаст его."
      ]
    },
    {
      "cell_type": "markdown",
      "metadata": {
        "id": "1NLmy-CKHWgm"
      },
      "source": [
        "**Пример.** Открыть файл через контекстный менеджер."
      ]
    },
    {
      "cell_type": "code",
      "execution_count": null,
      "metadata": {
        "id": "kemq5be_HWgm",
        "outputId": "f3cbe720-d074-4f89-ea0f-547dea5d08d3"
      },
      "outputs": [
        {
          "name": "stdout",
          "output_type": "stream",
          "text": [
            "Содержимое: Hello, World!\n"
          ]
        }
      ],
      "source": [
        "path = pathlib.Path(\"./file.txt\")\n",
        "path.touch(exist_ok=True)\n",
        "\n",
        "path.write_text(\"Hello, World!\")\n",
        "\n",
        "with path.open(mode=\"r\") as file:\n",
        "    print(f\"Содержимое: {file.read()}\")"
      ]
    },
    {
      "cell_type": "markdown",
      "metadata": {
        "id": "DT58oKHsHWgm"
      },
      "source": [
        "**Примечание.** `Path.open` - высокоуровневый аналог для классического `open`. Найдете отличия?"
      ]
    },
    {
      "cell_type": "code",
      "execution_count": null,
      "metadata": {
        "id": "Vx4NoNmhHWgm",
        "outputId": "58eb7c8b-9211-4de7-9618-7ed5b6d0977e"
      },
      "outputs": [
        {
          "name": "stdout",
          "output_type": "stream",
          "text": [
            "Содержимое: Hello, World!\n"
          ]
        }
      ],
      "source": [
        "path = pathlib.Path(\"./file.txt\")\n",
        "path.touch(exist_ok=True)\n",
        "\n",
        "path.write_text(\"Hello, World!\")\n",
        "\n",
        "with open(path, mode=\"r\") as file:\n",
        "    print(f\"Содержимое: {file.read()}\")"
      ]
    },
    {
      "cell_type": "markdown",
      "metadata": {
        "id": "9LvCQYvlHWgm"
      },
      "source": [
        "**Пример.** Проверить, что пути относятся к одному и тому же объекту."
      ]
    },
    {
      "cell_type": "code",
      "execution_count": null,
      "metadata": {
        "id": "jL4g0gZVHWgm",
        "outputId": "12a9af21-d1a4-439d-b964-d43e6f0ac97e"
      },
      "outputs": [
        {
          "data": {
            "text/plain": [
              "True"
            ]
          },
          "execution_count": 58,
          "metadata": {},
          "output_type": "execute_result"
        }
      ],
      "source": [
        "lhs = pathlib.Path(\".///////lecture.ipynb\")\n",
        "rhs = pathlib.Path(\"lecture.ipynb\").absolute()\n",
        "\n",
        "lhs.samefile(rhs)"
      ]
    },
    {
      "cell_type": "markdown",
      "metadata": {
        "id": "bTTxxdR0HWgm"
      },
      "source": [
        "**Замечание.** Обратите внимание, что методы `samefile` и `__eq__` - не одно и то же (кто понимает, почему?)"
      ]
    },
    {
      "cell_type": "code",
      "execution_count": null,
      "metadata": {
        "id": "jITG0SqkHWgm"
      },
      "outputs": [],
      "source": [
        "lhs = pathlib.Path(\".///////lecture.ipynb\")\n",
        "rhs = pathlib.Path(\"./lecture.ipynb\").absolute()\n",
        "\n",
        "lhs == rhs"
      ]
    },
    {
      "cell_type": "markdown",
      "metadata": {
        "id": "nOrz9rsEHWgm"
      },
      "source": [
        "**Пример.** Вычленить имя файла."
      ]
    },
    {
      "cell_type": "code",
      "execution_count": null,
      "metadata": {
        "id": "elhhE_kAHWgm",
        "outputId": "d932e66c-439a-4f3c-c097-3d626c64f304"
      },
      "outputs": [
        {
          "data": {
            "text/plain": [
              "'lecture.ipynb'"
            ]
          },
          "execution_count": 14,
          "metadata": {},
          "output_type": "execute_result"
        }
      ],
      "source": [
        "path = pathlib.Path(\"~/Desktop/dev/hse/lecture.ipynb\")\n",
        "path.name"
      ]
    },
    {
      "cell_type": "markdown",
      "metadata": {
        "id": "aJt-BtXVHWgm"
      },
      "source": [
        "**Пример.** Получить расширение файла."
      ]
    },
    {
      "cell_type": "code",
      "execution_count": null,
      "metadata": {
        "id": "3x4ttDpzHWgn",
        "outputId": "92d093ae-9e0e-4b8b-ca50-30dc86779632"
      },
      "outputs": [
        {
          "data": {
            "text/plain": [
              "'.ipynb'"
            ]
          },
          "execution_count": 15,
          "metadata": {},
          "output_type": "execute_result"
        }
      ],
      "source": [
        "path = pathlib.Path(\"~/Desktop/dev/hse/lecture.ipynb\")\n",
        "path.suffix"
      ]
    },
    {
      "cell_type": "code",
      "execution_count": null,
      "metadata": {
        "id": "-Q9xAdqdHWgn",
        "outputId": "e263b609-d282-4ac8-a268-4497a0b0c4c2"
      },
      "outputs": [
        {
          "data": {
            "text/plain": [
              "''"
            ]
          },
          "execution_count": 17,
          "metadata": {},
          "output_type": "execute_result"
        }
      ],
      "source": [
        "path = pathlib.Path(\"~/Desktop/dev/hse/without_extension\")\n",
        "path.suffix"
      ]
    },
    {
      "cell_type": "code",
      "execution_count": null,
      "metadata": {
        "id": "cCDvF0yuHWgo",
        "outputId": "30e67f03-bb67-4387-ec24-532f961caf73"
      },
      "outputs": [
        {
          "data": {
            "text/plain": [
              "'.gz'"
            ]
          },
          "execution_count": 16,
          "metadata": {},
          "output_type": "execute_result"
        }
      ],
      "source": [
        "path = pathlib.Path(\"~/Desktop/dev/hse/archive.tar.gz\")\n",
        "path.suffix"
      ]
    },
    {
      "cell_type": "markdown",
      "metadata": {
        "id": "3fQ_BPOyHWgo"
      },
      "source": [
        "**Замечание.** Если расширение сложное, то атрибут `suffix` вернет только крайнюю его часть. Чтобы этого избежать, можно воспользоваться другим атрибутом."
      ]
    },
    {
      "cell_type": "code",
      "execution_count": null,
      "metadata": {
        "id": "ER2kquyFHWgo",
        "outputId": "73e3d738-1f7f-4e8a-93df-620a55ba0e9e"
      },
      "outputs": [
        {
          "data": {
            "text/plain": [
              "['.tar', '.gz']"
            ]
          },
          "execution_count": 18,
          "metadata": {},
          "output_type": "execute_result"
        }
      ],
      "source": [
        "path = pathlib.Path(\"~/Desktop/dev/hse/archive.tar.gz\")\n",
        "path.suffixes"
      ]
    },
    {
      "cell_type": "code",
      "execution_count": null,
      "metadata": {
        "id": "2cerLKF4HWgo",
        "outputId": "6f26e0bf-7034-4ed6-ab24-0ed88dd7c52b"
      },
      "outputs": [
        {
          "data": {
            "text/plain": [
              "'.tar.gz'"
            ]
          },
          "execution_count": 21,
          "metadata": {},
          "output_type": "execute_result"
        }
      ],
      "source": [
        "def get_full_extension(path: pathlib.Path) -> str:\n",
        "    return \"\".join(path.suffixes)\n",
        "\n",
        "\n",
        "path = pathlib.Path(\"~/Desktop/dev/hse/archive.tar.gz\")\n",
        "get_full_extension(path)"
      ]
    },
    {
      "cell_type": "markdown",
      "metadata": {
        "id": "uUVC8Vj6HWgo"
      },
      "source": [
        "**Напоминание.** В качестве разделителя компонент на `Windows` используется обратный слеш (`\\`), а на `POSIX`-платформах прямой слеш (`/`)."
      ]
    },
    {
      "cell_type": "markdown",
      "metadata": {
        "id": "6UQqPJj7HWgo"
      },
      "source": [
        "**Пример.** Привести путь к стилю `POSIX`-платформ."
      ]
    },
    {
      "cell_type": "code",
      "execution_count": null,
      "metadata": {
        "id": "wkNCM8D9HWgo",
        "outputId": "8295177f-31fe-4f59-8a9a-c3d0433759fb"
      },
      "outputs": [
        {
          "data": {
            "text/plain": [
              "'~/Desktop/dev/hse/lecture.ipynb'"
            ]
          },
          "execution_count": 23,
          "metadata": {},
          "output_type": "execute_result"
        }
      ],
      "source": [
        "path = pathlib.Path(\"~/Desktop/dev/hse/lecture.ipynb\")\n",
        "path.as_posix()"
      ]
    },
    {
      "cell_type": "markdown",
      "metadata": {
        "id": "lCiZYRLFHWgo"
      },
      "source": [
        "**Примечание.** Обратите внимание, что магический метод `__str__` не приводит обратные слеши у `WindowsPath` к прямым."
      ]
    },
    {
      "cell_type": "code",
      "execution_count": null,
      "metadata": {
        "id": "-nVWJthEHWgo",
        "outputId": "f4ab141b-d380-4d97-a312-eb8f3cce4b78"
      },
      "outputs": [
        {
          "data": {
            "text/plain": [
              "'~\\\\Desktop\\\\dev\\\\hse\\\\lecture.ipynb'"
            ]
          },
          "execution_count": 27,
          "metadata": {},
          "output_type": "execute_result"
        }
      ],
      "source": [
        "path = pathlib.Path(\"~/Desktop/dev/hse/lecture.ipynb\")\n",
        "str(path)"
      ]
    },
    {
      "cell_type": "markdown",
      "metadata": {
        "id": "hI7d61imHWgo"
      },
      "source": [
        "**Примечание.** Методов для приведения слешей к стилю `Windows` нет. Таким, как правило, никто не занимается - принято оперировать прямыми слешами."
      ]
    },
    {
      "cell_type": "markdown",
      "metadata": {
        "id": "LvhCsXwtHWgo"
      },
      "source": [
        "**Пример.** Привести путь к формату URI."
      ]
    },
    {
      "cell_type": "code",
      "execution_count": null,
      "metadata": {
        "id": "mxt-0p9PHWgo",
        "outputId": "5e5a6357-49e7-4335-a798-da42a39cb530"
      },
      "outputs": [
        {
          "data": {
            "text/plain": [
              "'file:///C:/Users/dev/Desktop/lecture.ipynb'"
            ]
          },
          "execution_count": 35,
          "metadata": {},
          "output_type": "execute_result"
        }
      ],
      "source": [
        "path = pathlib.Path(\"C:/Users/dev/Desktop/lecture.ipynb\")\n",
        "path.as_uri()"
      ]
    },
    {
      "cell_type": "markdown",
      "metadata": {
        "id": "mn1R0eEzHWgo"
      },
      "source": [
        "Вместе с `pathlib` для высокоуровневых операций над файловой системой используют модуль `shutil`. Функционал отчасти пересекается, однако есть много чего нового и интересного. Теперь нужно быть предельно внимательным, иначе легко накосячить.\n",
        "\n",
        "Ссылка на документацию: [Тык](https://docs.python.org/3/library/shutil.html)"
      ]
    },
    {
      "cell_type": "markdown",
      "metadata": {
        "id": "oySvuQbiHWgo"
      },
      "source": [
        "**Пример.** Скопировать файл в другое место."
      ]
    },
    {
      "cell_type": "code",
      "execution_count": null,
      "metadata": {
        "id": "s0b2S_DzHWgo"
      },
      "outputs": [],
      "source": [
        "# Что будем копировать\n",
        "filename = \"file.txt\"\n",
        "text = \"Hello, World\"\n",
        "\n",
        "file = pathlib.Path(filename)\n",
        "file.write_text(text)\n",
        "\n",
        "# Какой-то другой файл\n",
        "another_file = pathlib.Path(\"another.txt\")\n",
        "another_file.touch(exist_ok=True)\n",
        "\n",
        "# Какая-то директория\n",
        "some_directory = pathlib.Path(\"directory/\")\n",
        "some_directory.mkdir(exist_ok=True)\n",
        "\n",
        "# Копируем\n",
        "shutil.copy(file, another_file)\n",
        "shutil.copy(file, some_directory)\n",
        "\n",
        "assert another_file.read_text() == text\n",
        "assert some_directory.joinpath(filename).read_text() == text"
      ]
    },
    {
      "cell_type": "markdown",
      "metadata": {
        "id": "oL6eY0WnHWgo"
      },
      "source": [
        "**Пример.** Скопировать директорию вместе с ее содержимым в другое место."
      ]
    },
    {
      "cell_type": "code",
      "execution_count": null,
      "metadata": {
        "id": "MklP9YlAHWgo"
      },
      "outputs": [],
      "source": [
        "# Что будем копировать\n",
        "directory = pathlib.Path(\"directory/\")\n",
        "directory.mkdir(exist_ok=True)\n",
        "\n",
        "filename_1 = \"file_1.txt\"\n",
        "filename_2 = \"file_2.txt\"\n",
        "\n",
        "text_1 = \"file_1 -> text\"\n",
        "text_2 = \"file_2 -> text\"\n",
        "\n",
        "file_1 = directory / filename_1\n",
        "file_2 = directory / filename_2\n",
        "\n",
        "file_1.write_text(text_1)\n",
        "file_2.write_text(text_2)\n",
        "\n",
        "# Куда будем копировать\n",
        "another_directory = pathlib.Path(\"another_directory/\")\n",
        "\n",
        "# Директория не должна существовать\n",
        "assert not another_directory.exists()\n",
        "\n",
        "# Копируем\n",
        "shutil.copytree(directory, another_directory)\n",
        "\n",
        "assert another_directory.joinpath(filename_1).read_text() == text_1\n",
        "assert another_directory.joinpath(filename_2).read_text() == text_2"
      ]
    },
    {
      "cell_type": "markdown",
      "metadata": {
        "id": "t5PgYQ7qHWgp"
      },
      "source": [
        "**Пример.** Удалить директорию, у которой есть содержимое. Напомним, что `Path.rmdir` работает только с пустыми директориями."
      ]
    },
    {
      "cell_type": "code",
      "execution_count": null,
      "metadata": {
        "id": "DiCSkt0CHWgp"
      },
      "outputs": [],
      "source": [
        "directory = pathlib.Path(\"directory/\")\n",
        "directory.mkdir(exist_ok=True)\n",
        "\n",
        "file_1 = directory / \"file_1.txt\"\n",
        "file_2 = directory / \"file_2.txt\"\n",
        "\n",
        "file_1.write_text(\"file_1 -> text\")\n",
        "file_2.write_text(\"file_2 -> text\")\n",
        "\n",
        "# Сносим содержимое\n",
        "shutil.rmtree(directory)\n",
        "\n",
        "# Проверяем, что все удалено\n",
        "assert not directory.exists()"
      ]
    },
    {
      "cell_type": "markdown",
      "metadata": {
        "id": "D6T1iwyBHWgp"
      },
      "source": [
        "**Пример.** Получить путь до файла, который будет запущен при вводе команды."
      ]
    },
    {
      "cell_type": "code",
      "execution_count": null,
      "metadata": {
        "id": "y464TmGUHWgp",
        "outputId": "d3e7317b-17f9-46dc-d6cb-0548439a9eed"
      },
      "outputs": [
        {
          "data": {
            "text/plain": [
              "'c:\\\\Program Files\\\\Python311\\\\python.EXE'"
            ]
          },
          "execution_count": 64,
          "metadata": {},
          "output_type": "execute_result"
        }
      ],
      "source": [
        "shutil.which(\"python\")"
      ]
    },
    {
      "cell_type": "markdown",
      "metadata": {
        "id": "eQlfwz8RHWgp"
      },
      "source": [
        "Наконец, пора перейти к системным функциям и параметрам. А значит, настал черед `sys`."
      ]
    },
    {
      "cell_type": "markdown",
      "metadata": {
        "id": "cTSZ5whMHWgp"
      },
      "source": [
        "**Пример.** Узнать тип представления чисел на данном устройстве (*little-endian* / *big-endian*)."
      ]
    },
    {
      "cell_type": "code",
      "execution_count": null,
      "metadata": {
        "id": "ip_uz-QdHWgp",
        "outputId": "ebbf3db9-f9cd-4945-fd8f-95c079966202"
      },
      "outputs": [
        {
          "data": {
            "text/plain": [
              "'little'"
            ]
          },
          "execution_count": 22,
          "metadata": {},
          "output_type": "execute_result"
        }
      ],
      "source": [
        "import sys\n",
        "\n",
        "sys.byteorder"
      ]
    },
    {
      "cell_type": "markdown",
      "metadata": {
        "id": "o34oQ_JCHWgp"
      },
      "source": [
        "**Пример.** Запретить создание файлов `__pycache__` при импортировании библиотек."
      ]
    },
    {
      "cell_type": "code",
      "execution_count": null,
      "metadata": {
        "id": "i8yRMFEMHWgp"
      },
      "outputs": [],
      "source": [
        "sys.dont_write_bytecode = True"
      ]
    },
    {
      "cell_type": "markdown",
      "metadata": {
        "id": "yWLa8IdqHWgp"
      },
      "source": [
        "**Примечание.** Инструкцию выше необходимо применять до каких-либо импортов, иначе `.pyc` файлы все же будут созданы."
      ]
    },
    {
      "cell_type": "markdown",
      "metadata": {
        "id": "6a7DIpd7HWgp"
      },
      "source": [
        "**Пример.** Принудительно завершить программу с произвольным кодом возврата."
      ]
    },
    {
      "cell_type": "code",
      "execution_count": null,
      "metadata": {
        "id": "bUDwh-xMHWgp"
      },
      "outputs": [],
      "source": [
        "from typing import Final\n",
        "\n",
        "\n",
        "EXIT_SUCCESS: Final[int] = 0\n",
        "\n",
        "\n",
        "sys.exit(EXIT_SUCCESS)"
      ]
    },
    {
      "cell_type": "markdown",
      "metadata": {
        "id": "DkJVb3zFHWgp"
      },
      "source": [
        "**Примечание.** Те, кто хорошо знаком с `Python`, наверянка зададут вопрос, чем отличается `sys.exit` от обычного `exit`. Дело в том, что обычный `exit` неявным образом импортируется из модуля `site`, когда интерпретатор начинает свою работу. Однако явных гарантий на такой импорт не существует. Функция `exit` может как импортироваться, так и нет, поэтому технически мы вполне можем поймать исключение `NameError`."
      ]
    },
    {
      "cell_type": "markdown",
      "metadata": {
        "id": "L_AU7IwgHWgp"
      },
      "source": [
        "**Пример.** Получить максимально допустимую глубину стека."
      ]
    },
    {
      "cell_type": "code",
      "execution_count": null,
      "metadata": {
        "id": "SC2aBCIeHWgp",
        "outputId": "bcca31c7-61ce-493c-b936-337fb6fd9843"
      },
      "outputs": [
        {
          "data": {
            "text/plain": [
              "3000"
            ]
          },
          "execution_count": 52,
          "metadata": {},
          "output_type": "execute_result"
        }
      ],
      "source": [
        "sys.getrecursionlimit()"
      ]
    },
    {
      "cell_type": "markdown",
      "metadata": {
        "id": "dQge8d1aHWgp"
      },
      "source": [
        "**Пример.** Изменить максимально допустимую глубину стека (не рекомендуется!)."
      ]
    },
    {
      "cell_type": "code",
      "execution_count": null,
      "metadata": {
        "id": "kIoNiDFJHWgq",
        "outputId": "39119837-f381-462d-f60f-5ce3d0e572b0"
      },
      "outputs": [
        {
          "data": {
            "text/plain": [
              "5000"
            ]
          },
          "execution_count": 53,
          "metadata": {},
          "output_type": "execute_result"
        }
      ],
      "source": [
        "sys.setrecursionlimit(5000)\n",
        "\n",
        "# Убедимся, что все ОК\n",
        "sys.getrecursionlimit()"
      ]
    },
    {
      "cell_type": "markdown",
      "metadata": {
        "id": "jrIBmkv9HWgq"
      },
      "source": [
        "**Пример.** Узнать интервал смены потоков в секундах (для тех, кто понимает, что такое `GIL` и как устроены потоки в `Python`, но это мы еще обсудим, не переживайте)."
      ]
    },
    {
      "cell_type": "code",
      "execution_count": null,
      "metadata": {
        "id": "M4SsN4XuHWgq",
        "outputId": "9a6ccbe5-403e-4ef1-e1e8-543c22ef2612"
      },
      "outputs": [
        {
          "data": {
            "text/plain": [
              "0.005"
            ]
          },
          "execution_count": 55,
          "metadata": {},
          "output_type": "execute_result"
        }
      ],
      "source": [
        "sys.getswitchinterval()"
      ]
    },
    {
      "cell_type": "markdown",
      "metadata": {
        "id": "qg29-tHtHWgq"
      },
      "source": [
        "**Пример.** Изменить интервал смены потоков в секундах."
      ]
    },
    {
      "cell_type": "code",
      "execution_count": null,
      "metadata": {
        "id": "SkrN9FJNHWgq",
        "outputId": "74a4b6e0-314a-4780-e249-64876c695b5c"
      },
      "outputs": [
        {
          "data": {
            "text/plain": [
              "1.0"
            ]
          },
          "execution_count": 57,
          "metadata": {},
          "output_type": "execute_result"
        }
      ],
      "source": [
        "sys.setswitchinterval(1.0)\n",
        "\n",
        "# Убедимся, что все ОК\n",
        "sys.getswitchinterval()"
      ]
    },
    {
      "cell_type": "markdown",
      "metadata": {
        "id": "nwVku-XkHWgq"
      },
      "source": [
        "**Пример.** Получить число сильных ссылок на объект (вспоминаем устройство сборщика мусора, Тимур расскажет)."
      ]
    },
    {
      "cell_type": "code",
      "execution_count": null,
      "metadata": {
        "id": "Cc5-MKiVHWgq",
        "outputId": "675dcfa7-a95f-4efe-df55-8bc9a85f2f50"
      },
      "outputs": [
        {
          "data": {
            "text/plain": [
              "2"
            ]
          },
          "execution_count": 42,
          "metadata": {},
          "output_type": "execute_result"
        }
      ],
      "source": [
        "def hello() -> str:\n",
        "    return \"Hello, World\"\n",
        "\n",
        "\n",
        "sys.getrefcount(hello)"
      ]
    },
    {
      "cell_type": "markdown",
      "metadata": {
        "id": "HwY3FJtfHWgq"
      },
      "source": [
        "**Пояснение.** Откуда берутся две ссылки на объект, если должна быть только одна? На этот вопрос отвечает документация: \"Как правило, счетчик ссылок будет на один больше, чем Вы ожидаете, так как он включает в себя временную ссылку на объект за счет аргумента к `sys.getrefcount`\""
      ]
    },
    {
      "cell_type": "markdown",
      "metadata": {
        "id": "Ej5lIeaUHWgq"
      },
      "source": [
        "**Замечание.** Обратите внимание на вводную конструкцию \"как правило\". Она объясняется тем, что Вы можете сразу передать объект в качестве аргумента функции, минуя промежуточные переменные."
      ]
    },
    {
      "cell_type": "code",
      "execution_count": 19,
      "metadata": {
        "colab": {
          "base_uri": "https://localhost:8080/"
        },
        "id": "Xiz6BPXjHWgq",
        "outputId": "48c6fc9b-615b-4d8b-c1e7-1e211c580846"
      },
      "outputs": [
        {
          "output_type": "execute_result",
          "data": {
            "text/plain": [
              "1"
            ]
          },
          "metadata": {},
          "execution_count": 19
        }
      ],
      "source": [
        "sys.getrefcount(\"Python\" * 1000000)"
      ]
    },
    {
      "cell_type": "markdown",
      "metadata": {
        "id": "VXp1FwiRHWgq"
      },
      "source": [
        "**Замечание.** На случай если Вы не знали или не помнили, то повторно подсказываем, что `Python` прогружает некоторые объекты еще на этапе запуска интерпретатора. Такие объекты называют *вечными*. Это такая оптимизация со стороны интерпретатора. Например, некоторые целые числа по типу нуля. Для таких объектов поведение `sys.getrefcount` будет отличаться."
      ]
    },
    {
      "cell_type": "code",
      "execution_count": null,
      "metadata": {
        "id": "SBY2XHSaHWgq",
        "outputId": "76fc4447-4739-46d9-b609-b618a9fc3ac2"
      },
      "outputs": [
        {
          "data": {
            "text/plain": [
              "4294967295"
            ]
          },
          "execution_count": 54,
          "metadata": {},
          "output_type": "execute_result"
        }
      ],
      "source": [
        "sys.getrefcount(0)"
      ]
    },
    {
      "cell_type": "markdown",
      "metadata": {
        "id": "iBqDvRQqHWgq"
      },
      "source": [
        "**Внимание.** Документация не рекомендует доверять `sys.getrefcount`, кроме тех случаев, когда возвращается `0` или `1`. Будьте внимательны!"
      ]
    },
    {
      "cell_type": "markdown",
      "metadata": {
        "id": "rgbZk2P1HWgq"
      },
      "source": [
        "**Пример.** Получить аргументы командной строки."
      ]
    },
    {
      "cell_type": "code",
      "execution_count": null,
      "metadata": {
        "id": "JPM-HTQPHWgq",
        "outputId": "5efabbeb-26c4-421e-cfcf-aa93c896035f"
      },
      "outputs": [
        {
          "data": {
            "text/plain": [
              "['C:\\\\Users\\\\user\\\\AppData\\\\Roaming\\\\Python\\\\Python312\\\\site-packages\\\\ipykernel_launcher.py',\n",
              " '--f=c:\\\\Users\\\\user\\\\AppData\\\\Roaming\\\\jupyter\\\\runtime\\\\kernel-v2-14316nuLD4lYaYI2X.json']"
            ]
          },
          "execution_count": 26,
          "metadata": {},
          "output_type": "execute_result"
        }
      ],
      "source": [
        "sys.argv"
      ]
    },
    {
      "cell_type": "markdown",
      "metadata": {
        "id": "tc5_o0NGHWgq"
      },
      "source": [
        "Использование `sys.argv` позволяет узнать, какие аргументы отправил внешний пользователь Вашей программе. Тем не менее, обработка аргументов лежит строго на разработчике. Эта задача достаточно трудоемка: нужно проверить, что поступившие данные корректны, не противоречат друг другу и так далее. Автоматизировать этот процесс позволяет модуль `argparse`. О нем мы поговорим уже на семинаре."
      ]
    },
    {
      "cell_type": "markdown",
      "source": [
        "## Попугай дня"
      ],
      "metadata": {
        "id": "1SF4AT8qcNSC"
      }
    },
    {
      "cell_type": "markdown",
      "source": [
        "Сегодня у нас попугай, которого все видели! И это голубь!"
      ],
      "metadata": {
        "id": "iNWRS7gXcP-f"
      }
    },
    {
      "cell_type": "markdown",
      "source": [
        "![](https://cdn.culture.ru/images/ea6c5629-4841-505f-b2b8-f08b049ce4ef)"
      ],
      "metadata": {
        "id": "rukFIz7BcbBM"
      }
    },
    {
      "cell_type": "markdown",
      "source": [
        "В нашем случае это сизый голубь. Относительно всеядные птицы, которые были приручены оооочень давно, но которых ждала очень грустная судьба\n",
        "\n",
        "У голубей есть удивительная способность всегда возвращаться домой (вне зависимости от места, где вы его выпустили), собственно поэтому голубей практически на протяжении всей человеческой истории использовали в качестве почты (и осталось еще огромное кол-во голубятней). Однако, начиная со второй половины XX века, с изобретением радио, телевизора и интернетов они стали попросту не нужны :с\n",
        "\n",
        "Что сделали люди? Правильно, просто отпустили их. С этого момента они и заселяют города и встречаются почти везде (так что когда вы говорите, что это крысы, учитывайте, что мы сами создали такие условия для них)\n",
        "\n",
        "Голуби достаточно умные птицы, умеют определять людей (и их используют в спасательных операциях), одни из немногих птиц, которые пьют, не заглатывая (а как трубочкой, как мы это делаем), а качают головой для стабилизации изображения\n",
        "\n",
        "А еще они делают очень нелепые гнезда (причина простая - они изначально обитают в скалистых местностях, поэтому их дома представляют из себя расщелины, где особо гнездо и не нужно)\n"
      ],
      "metadata": {
        "id": "_2FIat9iceXj"
      }
    },
    {
      "cell_type": "markdown",
      "source": [
        "![](https://upload.wikimedia.org/wikipedia/commons/thumb/d/d7/Samicka_holuba_skalniho_na_vejci.jpg/900px-Samicka_holuba_skalniho_na_vejci.jpg)"
      ],
      "metadata": {
        "id": "ElL6px1LemJY"
      }
    }
  ],
  "metadata": {
    "kernelspec": {
      "display_name": "Python 3",
      "language": "python",
      "name": "python3"
    },
    "language_info": {
      "codemirror_mode": {
        "name": "ipython",
        "version": 3
      },
      "file_extension": ".py",
      "mimetype": "text/x-python",
      "name": "python",
      "nbconvert_exporter": "python",
      "pygments_lexer": "ipython3",
      "version": "3.11.0"
    },
    "colab": {
      "provenance": []
    }
  },
  "nbformat": 4,
  "nbformat_minor": 0
}